{
 "cells": [
  {
   "cell_type": "markdown",
   "metadata": {},
   "source": [
    "# <a name=\"0\">K means - EM</a>"
   ]
  },
  {
   "cell_type": "markdown",
   "metadata": {},
   "source": [
    "1. <a href=\"#1\">Read the dataset</a>\n",
    "2. <a href=\"#2\">Data investigation</a>\n",
    "3. <a href=\"#3\">Data preprocessing </a>\n",
    "4. <a href=\"#4\">Features transformation </a>\n",
    "4. <a href=\"#5\">Training datasets</a>\n",
    "5. <a href=\"#6\">Improvement ideas</a>\n",
    "\n"
   ]
  },
  {
   "cell_type": "code",
   "execution_count": 1,
   "metadata": {},
   "outputs": [],
   "source": [
    "import pandas as pd\n",
    "import numpy as np\n",
    "import matplotlib.pyplot as plt\n",
    "import warnings\n",
    "import seaborn as sns\n",
    "warnings.filterwarnings(\"ignore\")"
   ]
  },
  {
   "cell_type": "markdown",
   "metadata": {},
   "source": [
    "## 1. <a name=\"1\">Read the dataset</a>\n",
    "(<a href=\"#0\">Go to top</a>)\n",
    "\n",
    "First dowmload the data set from this link https://www.kaggle.com/fernandol/countries-of-the-world\n",
    "then import it in python."
   ]
  },
  {
   "cell_type": "code",
   "execution_count": 2,
   "metadata": {},
   "outputs": [
    {
     "name": "stdout",
     "output_type": "stream",
     "text": [
      "The shape of the dataset is: (227, 20)\n"
     ]
    }
   ],
   "source": [
    "#read the data\n",
    "\n",
    "data_path = 'countries of the world.csv'  #the path where you downloaded the data\n",
    "df = pd.read_csv(data_path)\n",
    "\n",
    "print('The shape of the dataset is:', df.shape)"
   ]
  },
  {
   "cell_type": "markdown",
   "metadata": {},
   "source": [
    "## 2. <a name=\"2\">Data investigation</a>\n",
    "(<a href=\"#0\">Go to top</a>)\n",
    "\n",
    "in this part you need to check the data quality and assess any issues in the data as:\n",
    "- null values in each column \n",
    "- each column has the proper data type\n",
    "- outliers\n",
    "- duplicate rows\n",
    "- distribution for each column (skewness)\n",
    "<br>\n",
    "\n",
    "**comment each issue you find** "
   ]
  },
  {
   "cell_type": "code",
   "execution_count": 3,
   "metadata": {},
   "outputs": [
    {
     "name": "stdout",
     "output_type": "stream",
     "text": [
      "<class 'pandas.core.frame.DataFrame'>\n",
      "RangeIndex: 227 entries, 0 to 226\n",
      "Data columns (total 20 columns):\n",
      " #   Column                              Non-Null Count  Dtype  \n",
      "---  ------                              --------------  -----  \n",
      " 0   Country                             227 non-null    object \n",
      " 1   Region                              227 non-null    object \n",
      " 2   Population                          227 non-null    int64  \n",
      " 3   Area (sq. mi.)                      227 non-null    int64  \n",
      " 4   Pop. Density (per sq. mi.)          227 non-null    object \n",
      " 5   Coastline (coast/area ratio)        227 non-null    object \n",
      " 6   Net migration                       224 non-null    object \n",
      " 7   Infant mortality (per 1000 births)  224 non-null    object \n",
      " 8   GDP ($ per capita)                  226 non-null    float64\n",
      " 9   Literacy (%)                        209 non-null    object \n",
      " 10  Phones (per 1000)                   223 non-null    object \n",
      " 11  Arable (%)                          225 non-null    object \n",
      " 12  Crops (%)                           225 non-null    object \n",
      " 13  Other (%)                           225 non-null    object \n",
      " 14  Climate                             205 non-null    object \n",
      " 15  Birthrate                           224 non-null    object \n",
      " 16  Deathrate                           223 non-null    object \n",
      " 17  Agriculture                         212 non-null    object \n",
      " 18  Industry                            211 non-null    object \n",
      " 19  Service                             212 non-null    object \n",
      "dtypes: float64(1), int64(2), object(17)\n",
      "memory usage: 35.6+ KB\n"
     ]
    }
   ],
   "source": [
    "# Let's see the data types and non-null values for each column\n",
    "df.info()"
   ]
  },
  {
   "cell_type": "markdown",
   "metadata": {},
   "source": [
    "//so much object-type data\n"
   ]
  },
  {
   "cell_type": "code",
   "execution_count": 4,
   "metadata": {},
   "outputs": [
    {
     "data": {
      "text/plain": [
       "Country                               0.00\n",
       "Region                                0.00\n",
       "Population                            0.00\n",
       "Area (sq. mi.)                        0.00\n",
       "Pop. Density (per sq. mi.)            0.00\n",
       "Coastline (coast/area ratio)          0.00\n",
       "Net migration                         1.32\n",
       "Infant mortality (per 1000 births)    1.32\n",
       "GDP ($ per capita)                    0.44\n",
       "Literacy (%)                          7.93\n",
       "Phones (per 1000)                     1.76\n",
       "Arable (%)                            0.88\n",
       "Crops (%)                             0.88\n",
       "Other (%)                             0.88\n",
       "Climate                               9.69\n",
       "Birthrate                             1.32\n",
       "Deathrate                             1.76\n",
       "Agriculture                           6.61\n",
       "Industry                              7.05\n",
       "Service                               6.61\n",
       "dtype: float64"
      ]
     },
     "execution_count": 4,
     "metadata": {},
     "output_type": "execute_result"
    }
   ],
   "source": [
    "round(df.isnull().sum(axis=0)*100/df.shape[0],2)"
   ]
  },
  {
   "cell_type": "code",
   "execution_count": 5,
   "metadata": {},
   "outputs": [
    {
     "data": {
      "text/html": [
       "<div>\n",
       "<style scoped>\n",
       "    .dataframe tbody tr th:only-of-type {\n",
       "        vertical-align: middle;\n",
       "    }\n",
       "\n",
       "    .dataframe tbody tr th {\n",
       "        vertical-align: top;\n",
       "    }\n",
       "\n",
       "    .dataframe thead th {\n",
       "        text-align: right;\n",
       "    }\n",
       "</style>\n",
       "<table border=\"1\" class=\"dataframe\">\n",
       "  <thead>\n",
       "    <tr style=\"text-align: right;\">\n",
       "      <th></th>\n",
       "      <th>Population</th>\n",
       "      <th>Area (sq. mi.)</th>\n",
       "      <th>GDP ($ per capita)</th>\n",
       "    </tr>\n",
       "  </thead>\n",
       "  <tbody>\n",
       "    <tr>\n",
       "      <th>count</th>\n",
       "      <td>2.270000e+02</td>\n",
       "      <td>2.270000e+02</td>\n",
       "      <td>226.000000</td>\n",
       "    </tr>\n",
       "    <tr>\n",
       "      <th>mean</th>\n",
       "      <td>2.874028e+07</td>\n",
       "      <td>5.982270e+05</td>\n",
       "      <td>9689.823009</td>\n",
       "    </tr>\n",
       "    <tr>\n",
       "      <th>std</th>\n",
       "      <td>1.178913e+08</td>\n",
       "      <td>1.790282e+06</td>\n",
       "      <td>10049.138513</td>\n",
       "    </tr>\n",
       "    <tr>\n",
       "      <th>min</th>\n",
       "      <td>7.026000e+03</td>\n",
       "      <td>2.000000e+00</td>\n",
       "      <td>500.000000</td>\n",
       "    </tr>\n",
       "    <tr>\n",
       "      <th>25%</th>\n",
       "      <td>4.376240e+05</td>\n",
       "      <td>4.647500e+03</td>\n",
       "      <td>1900.000000</td>\n",
       "    </tr>\n",
       "    <tr>\n",
       "      <th>50%</th>\n",
       "      <td>4.786994e+06</td>\n",
       "      <td>8.660000e+04</td>\n",
       "      <td>5550.000000</td>\n",
       "    </tr>\n",
       "    <tr>\n",
       "      <th>75%</th>\n",
       "      <td>1.749777e+07</td>\n",
       "      <td>4.418110e+05</td>\n",
       "      <td>15700.000000</td>\n",
       "    </tr>\n",
       "    <tr>\n",
       "      <th>max</th>\n",
       "      <td>1.313974e+09</td>\n",
       "      <td>1.707520e+07</td>\n",
       "      <td>55100.000000</td>\n",
       "    </tr>\n",
       "  </tbody>\n",
       "</table>\n",
       "</div>"
      ],
      "text/plain": [
       "         Population  Area (sq. mi.)  GDP ($ per capita)\n",
       "count  2.270000e+02    2.270000e+02          226.000000\n",
       "mean   2.874028e+07    5.982270e+05         9689.823009\n",
       "std    1.178913e+08    1.790282e+06        10049.138513\n",
       "min    7.026000e+03    2.000000e+00          500.000000\n",
       "25%    4.376240e+05    4.647500e+03         1900.000000\n",
       "50%    4.786994e+06    8.660000e+04         5550.000000\n",
       "75%    1.749777e+07    4.418110e+05        15700.000000\n",
       "max    1.313974e+09    1.707520e+07        55100.000000"
      ]
     },
     "execution_count": 5,
     "metadata": {},
     "output_type": "execute_result"
    }
   ],
   "source": [
    "# This will print basic statistics for numerical columns\n",
    "df.describe()"
   ]
  },
  {
   "cell_type": "code",
   "execution_count": 6,
   "metadata": {},
   "outputs": [
    {
     "data": {
      "text/html": [
       "<div>\n",
       "<style scoped>\n",
       "    .dataframe tbody tr th:only-of-type {\n",
       "        vertical-align: middle;\n",
       "    }\n",
       "\n",
       "    .dataframe tbody tr th {\n",
       "        vertical-align: top;\n",
       "    }\n",
       "\n",
       "    .dataframe thead th {\n",
       "        text-align: right;\n",
       "    }\n",
       "</style>\n",
       "<table border=\"1\" class=\"dataframe\">\n",
       "  <thead>\n",
       "    <tr style=\"text-align: right;\">\n",
       "      <th></th>\n",
       "      <th>Country</th>\n",
       "      <th>Region</th>\n",
       "      <th>Population</th>\n",
       "      <th>Area (sq. mi.)</th>\n",
       "      <th>Pop. Density (per sq. mi.)</th>\n",
       "      <th>Coastline (coast/area ratio)</th>\n",
       "      <th>Net migration</th>\n",
       "      <th>Infant mortality (per 1000 births)</th>\n",
       "      <th>GDP ($ per capita)</th>\n",
       "      <th>Literacy (%)</th>\n",
       "      <th>Phones (per 1000)</th>\n",
       "      <th>Arable (%)</th>\n",
       "      <th>Crops (%)</th>\n",
       "      <th>Other (%)</th>\n",
       "      <th>Climate</th>\n",
       "      <th>Birthrate</th>\n",
       "      <th>Deathrate</th>\n",
       "      <th>Agriculture</th>\n",
       "      <th>Industry</th>\n",
       "      <th>Service</th>\n",
       "    </tr>\n",
       "  </thead>\n",
       "  <tbody>\n",
       "  </tbody>\n",
       "</table>\n",
       "</div>"
      ],
      "text/plain": [
       "Empty DataFrame\n",
       "Columns: [Country, Region, Population, Area (sq. mi.), Pop. Density (per sq. mi.), Coastline (coast/area ratio), Net migration, Infant mortality (per 1000 births), GDP ($ per capita), Literacy (%), Phones (per 1000), Arable (%), Crops (%), Other (%), Climate, Birthrate, Deathrate, Agriculture, Industry, Service]\n",
       "Index: []"
      ]
     },
     "execution_count": 6,
     "metadata": {},
     "output_type": "execute_result"
    }
   ],
   "source": [
    "#checking for any duplicate countires\n",
    "df[df.duplicated(keep=False)]\n",
    "#none were found"
   ]
  },
  {
   "cell_type": "code",
   "execution_count": 7,
   "metadata": {},
   "outputs": [],
   "source": [
    "# grouping all the countries with any missing data into the data freme \"missing_df\"\n",
    "missing_df = df[df.isna().any(axis=1)]"
   ]
  },
  {
   "cell_type": "code",
   "execution_count": 8,
   "metadata": {},
   "outputs": [
    {
     "data": {
      "text/plain": [
       "(48, 20)"
      ]
     },
     "execution_count": 8,
     "metadata": {},
     "output_type": "execute_result"
    }
   ],
   "source": [
    "missing_df.shape"
   ]
  },
  {
   "cell_type": "markdown",
   "metadata": {},
   "source": [
    "## 3. <a name=\"3\">Data preprocessing</a>\n",
    "(<a href=\"#0\">Go to top</a>)\n"
   ]
  },
  {
   "cell_type": "markdown",
   "metadata": {},
   "source": [
    "### Define below all the issues that you had found in the previous part\n",
    "#### 1- need to convert object-type data into numrical data        <br>\n",
    "#### 2- some columns have null values for different countries      <br>\n",
    "I think the best approach is to try to predict the missing values using ML models such as linear regression, if this's not possible or time consuming for such assignment, I'll just fill in the missing data with the average which's probabily not a good idea           <br>\n",
    "#### 3- can't do visuallization on non numerical-type data         <br>"
   ]
  },
  {
   "cell_type": "code",
   "execution_count": 9,
   "metadata": {},
   "outputs": [],
   "source": [
    "#make a copy for the original dataset\n",
    "df_copy=df.copy()"
   ]
  },
  {
   "cell_type": "markdown",
   "metadata": {},
   "source": [
    "### for each issue adapt this methodology \n",
    "- start by defining the solution\n",
    "- apply this solution onn the data\n",
    "- test the solution to make sure that you have solved the issue"
   ]
  },
  {
   "cell_type": "markdown",
   "metadata": {},
   "source": [
    "**First issue**"
   ]
  },
  {
   "cell_type": "code",
   "execution_count": 10,
   "metadata": {},
   "outputs": [],
   "source": [
    "#solution \n",
    "# first we get a list of all columns names to loop through:\n",
    "cols = df.columns\n",
    "\n",
    "# a function that converts \",\" >> \".\"\n",
    "def convert_to_numerical(value):\n",
    "    output = value\n",
    "    if ',' in str(value):\n",
    "        output = str(value).replace(',', '.')        \n",
    "    return float(output)\n",
    "\n",
    "# we apply the function to all columns except the first two since they don't contain any numeric values\n",
    "for i in cols[2:]:\n",
    "    df[i] = df[i].apply(lambda x: convert_to_numerical(x))"
   ]
  },
  {
   "cell_type": "code",
   "execution_count": 11,
   "metadata": {},
   "outputs": [
    {
     "name": "stdout",
     "output_type": "stream",
     "text": [
      "<class 'pandas.core.frame.DataFrame'>\n",
      "RangeIndex: 227 entries, 0 to 226\n",
      "Data columns (total 20 columns):\n",
      " #   Column                              Non-Null Count  Dtype  \n",
      "---  ------                              --------------  -----  \n",
      " 0   Country                             227 non-null    object \n",
      " 1   Region                              227 non-null    object \n",
      " 2   Population                          227 non-null    float64\n",
      " 3   Area (sq. mi.)                      227 non-null    float64\n",
      " 4   Pop. Density (per sq. mi.)          227 non-null    float64\n",
      " 5   Coastline (coast/area ratio)        227 non-null    float64\n",
      " 6   Net migration                       224 non-null    float64\n",
      " 7   Infant mortality (per 1000 births)  224 non-null    float64\n",
      " 8   GDP ($ per capita)                  226 non-null    float64\n",
      " 9   Literacy (%)                        209 non-null    float64\n",
      " 10  Phones (per 1000)                   223 non-null    float64\n",
      " 11  Arable (%)                          225 non-null    float64\n",
      " 12  Crops (%)                           225 non-null    float64\n",
      " 13  Other (%)                           225 non-null    float64\n",
      " 14  Climate                             205 non-null    float64\n",
      " 15  Birthrate                           224 non-null    float64\n",
      " 16  Deathrate                           223 non-null    float64\n",
      " 17  Agriculture                         212 non-null    float64\n",
      " 18  Industry                            211 non-null    float64\n",
      " 19  Service                             212 non-null    float64\n",
      "dtypes: float64(18), object(2)\n",
      "memory usage: 35.6+ KB\n"
     ]
    }
   ],
   "source": [
    "#test \n",
    "df.info()"
   ]
  },
  {
   "cell_type": "markdown",
   "metadata": {},
   "source": [
    "**Second issue**"
   ]
  },
  {
   "cell_type": "markdown",
   "metadata": {},
   "source": [
    "## as I mentioned above, my initial idea was to make different predictors to estimate the missing values in each column, but this has turned out to be a terrible idea. so you can just skip the following couple of cells and go straight to <a href=\"#imputer\">this cell</a>"
   ]
  },
  {
   "cell_type": "code",
   "execution_count": 12,
   "metadata": {},
   "outputs": [
    {
     "name": "stdout",
     "output_type": "stream",
     "text": [
      "<class 'pandas.core.frame.DataFrame'>\n",
      "Int64Index: 179 entries, 0 to 226\n",
      "Data columns (total 20 columns):\n",
      " #   Column                              Non-Null Count  Dtype  \n",
      "---  ------                              --------------  -----  \n",
      " 0   Country                             179 non-null    object \n",
      " 1   Region                              179 non-null    object \n",
      " 2   Population                          179 non-null    float64\n",
      " 3   Area (sq. mi.)                      179 non-null    float64\n",
      " 4   Pop. Density (per sq. mi.)          179 non-null    float64\n",
      " 5   Coastline (coast/area ratio)        179 non-null    float64\n",
      " 6   Net migration                       179 non-null    float64\n",
      " 7   Infant mortality (per 1000 births)  179 non-null    float64\n",
      " 8   GDP ($ per capita)                  179 non-null    float64\n",
      " 9   Literacy (%)                        179 non-null    float64\n",
      " 10  Phones (per 1000)                   179 non-null    float64\n",
      " 11  Arable (%)                          179 non-null    float64\n",
      " 12  Crops (%)                           179 non-null    float64\n",
      " 13  Other (%)                           179 non-null    float64\n",
      " 14  Climate                             179 non-null    int32  \n",
      " 15  Birthrate                           179 non-null    float64\n",
      " 16  Deathrate                           179 non-null    float64\n",
      " 17  Agriculture                         179 non-null    float64\n",
      " 18  Industry                            179 non-null    float64\n",
      " 19  Service                             179 non-null    float64\n",
      "dtypes: float64(17), int32(1), object(2)\n",
      "memory usage: 28.7+ KB\n"
     ]
    }
   ],
   "source": [
    "#solution \n",
    "df_full = df.dropna()\n",
    "df_full[\"Climate\"] = df_full[\"Climate\"].astype(int) #changing climate to integer since it's a categorical variable\n",
    "df_full.info()\n"
   ]
  },
  {
   "cell_type": "code",
   "execution_count": 13,
   "metadata": {},
   "outputs": [],
   "source": [
    "from sklearn.model_selection import train_test_split\n",
    "from sklearn.linear_model import LogisticRegression\n",
    "from sklearn.linear_model import LinearRegression"
   ]
  },
  {
   "cell_type": "markdown",
   "metadata": {},
   "source": [
    "### creating different models to predict the columns with missing data above 2%. the rest I'll just fill it with the average."
   ]
  },
  {
   "cell_type": "code",
   "execution_count": 14,
   "metadata": {},
   "outputs": [],
   "source": [
    "\n",
    "X_full, climate_full = df_full.iloc[:,2:20] ,df_full.iloc[:,14]\n",
    "literacy_full, agriculture_full = df_full.iloc[:,9], df_full.iloc[:,17]\n",
    "industry_full, service_full = df_full.iloc[:,18], df_full.iloc[:,19]\n"
   ]
  },
  {
   "cell_type": "markdown",
   "metadata": {},
   "source": [
    "### 1) climate_predictor"
   ]
  },
  {
   "cell_type": "code",
   "execution_count": 15,
   "metadata": {},
   "outputs": [],
   "source": [
    "X_train, X_test, climate_train, climate_test = train_test_split(X_full[X_full.columns.drop('Climate')], climate_full ,test_size=0.25, shuffle=True, \n",
    "                                         random_state=13,stratify=climate_full)\n"
   ]
  },
  {
   "cell_type": "code",
   "execution_count": 16,
   "metadata": {},
   "outputs": [],
   "source": [
    "# C_values = [0.001, 0.01, 0.1, 1, 5, 10, 20, 100]\n",
    "# max_iter_values = [100, 200, 400, 800]\n",
    "\n",
    "# best_scores = []\n",
    "# different_parameters = []\n",
    "# for i in C_values:\n",
    "#     for j in max_iter_values:\n",
    "#         climate_predictor = LogisticRegression(random_state=13, max_iter=j, C=i, penalty='l2', solver='newton-cg')\n",
    "#         climate_predictor.fit(X_train,climate_train)\n",
    "#         log_scores = accuracy_score(climate_test, climate_predictor.predict(X_test))\n",
    "#         best_scores.append(log_scores)\n",
    "#         different_parameters.append(str(i) + \", \" + str(j))\n",
    "# print(best_scores)"
   ]
  },
  {
   "cell_type": "code",
   "execution_count": 17,
   "metadata": {},
   "outputs": [],
   "source": [
    "# plt.figure(figsize=(25,5))\n",
    "# plt.plot(different_parameters, best_scores)\n",
    "# plt.xlabel(\"Different parameters values (C, max_itr)\")\n",
    "# plt.ylabel(\"test-train split Accuracy\")"
   ]
  },
  {
   "cell_type": "markdown",
   "metadata": {},
   "source": [
    "#### nice looking zigzag.  best parameters to predict the climate of missing countries are c = 0.1 , max_iter = 200. this is probably is as good as blindfold guessing the values, but with more steps."
   ]
  },
  {
   "cell_type": "code",
   "execution_count": 18,
   "metadata": {},
   "outputs": [],
   "source": [
    "# df['climate_pred'] = climate_predictor.predict(df.drop(['Climate', 'Country', 'Region'], axis = 1))\n",
    "\n",
    "# df['climate_LM'] = np.where(df['Climate']>0, X['Climate'], df['climate_pred'])\n"
   ]
  },
  {
   "cell_type": "markdown",
   "metadata": {},
   "source": [
    "### 2) literacy_predictor"
   ]
  },
  {
   "cell_type": "code",
   "execution_count": 19,
   "metadata": {},
   "outputs": [],
   "source": [
    "X_train, X_test, literacy_train, literacy_test = train_test_split(X_full[X_full.columns.drop('Literacy (%)')], literacy_full ,test_size=0.25, shuffle=True, \n",
    "                                         random_state=13)"
   ]
  },
  {
   "cell_type": "code",
   "execution_count": 20,
   "metadata": {},
   "outputs": [
    {
     "data": {
      "text/html": [
       "<div>\n",
       "<style scoped>\n",
       "    .dataframe tbody tr th:only-of-type {\n",
       "        vertical-align: middle;\n",
       "    }\n",
       "\n",
       "    .dataframe tbody tr th {\n",
       "        vertical-align: top;\n",
       "    }\n",
       "\n",
       "    .dataframe thead th {\n",
       "        text-align: right;\n",
       "    }\n",
       "</style>\n",
       "<table border=\"1\" class=\"dataframe\">\n",
       "  <thead>\n",
       "    <tr style=\"text-align: right;\">\n",
       "      <th></th>\n",
       "      <th>Population</th>\n",
       "      <th>Area (sq. mi.)</th>\n",
       "      <th>Pop. Density (per sq. mi.)</th>\n",
       "      <th>Coastline (coast/area ratio)</th>\n",
       "      <th>Net migration</th>\n",
       "      <th>Infant mortality (per 1000 births)</th>\n",
       "      <th>GDP ($ per capita)</th>\n",
       "      <th>Phones (per 1000)</th>\n",
       "      <th>Arable (%)</th>\n",
       "      <th>Crops (%)</th>\n",
       "      <th>Other (%)</th>\n",
       "      <th>Climate</th>\n",
       "      <th>Birthrate</th>\n",
       "      <th>Deathrate</th>\n",
       "      <th>Agriculture</th>\n",
       "      <th>Industry</th>\n",
       "      <th>Service</th>\n",
       "    </tr>\n",
       "  </thead>\n",
       "  <tbody>\n",
       "    <tr>\n",
       "      <th>54</th>\n",
       "      <td>5450661.0</td>\n",
       "      <td>43094.0</td>\n",
       "      <td>126.5</td>\n",
       "      <td>16.97</td>\n",
       "      <td>2.48</td>\n",
       "      <td>4.56</td>\n",
       "      <td>31100.0</td>\n",
       "      <td>614.6</td>\n",
       "      <td>54.02</td>\n",
       "      <td>0.19</td>\n",
       "      <td>45.79</td>\n",
       "      <td>3</td>\n",
       "      <td>11.13</td>\n",
       "      <td>10.36</td>\n",
       "      <td>0.018</td>\n",
       "      <td>0.246</td>\n",
       "      <td>0.735</td>\n",
       "    </tr>\n",
       "    <tr>\n",
       "      <th>132</th>\n",
       "      <td>3177388.0</td>\n",
       "      <td>1030700.0</td>\n",
       "      <td>3.1</td>\n",
       "      <td>0.07</td>\n",
       "      <td>0.00</td>\n",
       "      <td>70.89</td>\n",
       "      <td>1800.0</td>\n",
       "      <td>12.9</td>\n",
       "      <td>0.48</td>\n",
       "      <td>0.01</td>\n",
       "      <td>99.51</td>\n",
       "      <td>1</td>\n",
       "      <td>40.99</td>\n",
       "      <td>12.16</td>\n",
       "      <td>0.250</td>\n",
       "      <td>0.290</td>\n",
       "      <td>0.460</td>\n",
       "    </tr>\n",
       "    <tr>\n",
       "      <th>11</th>\n",
       "      <td>20264082.0</td>\n",
       "      <td>7686850.0</td>\n",
       "      <td>2.6</td>\n",
       "      <td>0.34</td>\n",
       "      <td>3.98</td>\n",
       "      <td>4.69</td>\n",
       "      <td>29000.0</td>\n",
       "      <td>565.5</td>\n",
       "      <td>6.55</td>\n",
       "      <td>0.04</td>\n",
       "      <td>93.41</td>\n",
       "      <td>1</td>\n",
       "      <td>12.14</td>\n",
       "      <td>7.51</td>\n",
       "      <td>0.038</td>\n",
       "      <td>0.262</td>\n",
       "      <td>0.700</td>\n",
       "    </tr>\n",
       "    <tr>\n",
       "      <th>109</th>\n",
       "      <td>23113019.0</td>\n",
       "      <td>120540.0</td>\n",
       "      <td>191.8</td>\n",
       "      <td>2.07</td>\n",
       "      <td>0.00</td>\n",
       "      <td>24.04</td>\n",
       "      <td>1300.0</td>\n",
       "      <td>42.4</td>\n",
       "      <td>20.76</td>\n",
       "      <td>2.49</td>\n",
       "      <td>76.75</td>\n",
       "      <td>3</td>\n",
       "      <td>15.54</td>\n",
       "      <td>7.13</td>\n",
       "      <td>0.300</td>\n",
       "      <td>0.340</td>\n",
       "      <td>0.360</td>\n",
       "    </tr>\n",
       "    <tr>\n",
       "      <th>84</th>\n",
       "      <td>12293545.0</td>\n",
       "      <td>108890.0</td>\n",
       "      <td>112.9</td>\n",
       "      <td>0.37</td>\n",
       "      <td>-1.67</td>\n",
       "      <td>35.93</td>\n",
       "      <td>4100.0</td>\n",
       "      <td>92.1</td>\n",
       "      <td>12.54</td>\n",
       "      <td>5.03</td>\n",
       "      <td>82.43</td>\n",
       "      <td>2</td>\n",
       "      <td>29.88</td>\n",
       "      <td>5.20</td>\n",
       "      <td>0.227</td>\n",
       "      <td>0.188</td>\n",
       "      <td>0.585</td>\n",
       "    </tr>\n",
       "    <tr>\n",
       "      <th>...</th>\n",
       "      <td>...</td>\n",
       "      <td>...</td>\n",
       "      <td>...</td>\n",
       "      <td>...</td>\n",
       "      <td>...</td>\n",
       "      <td>...</td>\n",
       "      <td>...</td>\n",
       "      <td>...</td>\n",
       "      <td>...</td>\n",
       "      <td>...</td>\n",
       "      <td>...</td>\n",
       "      <td>...</td>\n",
       "      <td>...</td>\n",
       "      <td>...</td>\n",
       "      <td>...</td>\n",
       "      <td>...</td>\n",
       "      <td>...</td>\n",
       "    </tr>\n",
       "    <tr>\n",
       "      <th>119</th>\n",
       "      <td>33987.0</td>\n",
       "      <td>160.0</td>\n",
       "      <td>212.4</td>\n",
       "      <td>0.00</td>\n",
       "      <td>4.85</td>\n",
       "      <td>4.70</td>\n",
       "      <td>25000.0</td>\n",
       "      <td>585.5</td>\n",
       "      <td>25.00</td>\n",
       "      <td>0.00</td>\n",
       "      <td>75.00</td>\n",
       "      <td>4</td>\n",
       "      <td>10.21</td>\n",
       "      <td>7.18</td>\n",
       "      <td>0.060</td>\n",
       "      <td>0.390</td>\n",
       "      <td>0.550</td>\n",
       "    </tr>\n",
       "    <tr>\n",
       "      <th>19</th>\n",
       "      <td>10379067.0</td>\n",
       "      <td>30528.0</td>\n",
       "      <td>340.0</td>\n",
       "      <td>0.22</td>\n",
       "      <td>1.23</td>\n",
       "      <td>4.68</td>\n",
       "      <td>29100.0</td>\n",
       "      <td>462.6</td>\n",
       "      <td>23.28</td>\n",
       "      <td>0.40</td>\n",
       "      <td>76.32</td>\n",
       "      <td>3</td>\n",
       "      <td>10.38</td>\n",
       "      <td>10.27</td>\n",
       "      <td>0.010</td>\n",
       "      <td>0.240</td>\n",
       "      <td>0.749</td>\n",
       "    </tr>\n",
       "    <tr>\n",
       "      <th>89</th>\n",
       "      <td>8308504.0</td>\n",
       "      <td>27750.0</td>\n",
       "      <td>299.4</td>\n",
       "      <td>6.38</td>\n",
       "      <td>-3.40</td>\n",
       "      <td>73.45</td>\n",
       "      <td>1600.0</td>\n",
       "      <td>16.9</td>\n",
       "      <td>28.30</td>\n",
       "      <td>11.61</td>\n",
       "      <td>60.09</td>\n",
       "      <td>2</td>\n",
       "      <td>36.44</td>\n",
       "      <td>12.17</td>\n",
       "      <td>0.280</td>\n",
       "      <td>0.200</td>\n",
       "      <td>0.520</td>\n",
       "    </tr>\n",
       "    <tr>\n",
       "      <th>224</th>\n",
       "      <td>21456188.0</td>\n",
       "      <td>527970.0</td>\n",
       "      <td>40.6</td>\n",
       "      <td>0.36</td>\n",
       "      <td>0.00</td>\n",
       "      <td>61.50</td>\n",
       "      <td>800.0</td>\n",
       "      <td>37.2</td>\n",
       "      <td>2.78</td>\n",
       "      <td>0.24</td>\n",
       "      <td>96.98</td>\n",
       "      <td>1</td>\n",
       "      <td>42.89</td>\n",
       "      <td>8.30</td>\n",
       "      <td>0.135</td>\n",
       "      <td>0.472</td>\n",
       "      <td>0.393</td>\n",
       "    </tr>\n",
       "    <tr>\n",
       "      <th>97</th>\n",
       "      <td>26783383.0</td>\n",
       "      <td>437072.0</td>\n",
       "      <td>61.3</td>\n",
       "      <td>0.01</td>\n",
       "      <td>0.00</td>\n",
       "      <td>50.25</td>\n",
       "      <td>1500.0</td>\n",
       "      <td>38.6</td>\n",
       "      <td>13.15</td>\n",
       "      <td>0.78</td>\n",
       "      <td>86.07</td>\n",
       "      <td>1</td>\n",
       "      <td>31.98</td>\n",
       "      <td>5.37</td>\n",
       "      <td>0.073</td>\n",
       "      <td>0.666</td>\n",
       "      <td>0.261</td>\n",
       "    </tr>\n",
       "  </tbody>\n",
       "</table>\n",
       "<p>134 rows × 17 columns</p>\n",
       "</div>"
      ],
      "text/plain": [
       "     Population  Area (sq. mi.)  Pop. Density (per sq. mi.)  \\\n",
       "54    5450661.0         43094.0                       126.5   \n",
       "132   3177388.0       1030700.0                         3.1   \n",
       "11   20264082.0       7686850.0                         2.6   \n",
       "109  23113019.0        120540.0                       191.8   \n",
       "84   12293545.0        108890.0                       112.9   \n",
       "..          ...             ...                         ...   \n",
       "119     33987.0           160.0                       212.4   \n",
       "19   10379067.0         30528.0                       340.0   \n",
       "89    8308504.0         27750.0                       299.4   \n",
       "224  21456188.0        527970.0                        40.6   \n",
       "97   26783383.0        437072.0                        61.3   \n",
       "\n",
       "     Coastline (coast/area ratio)  Net migration  \\\n",
       "54                          16.97           2.48   \n",
       "132                          0.07           0.00   \n",
       "11                           0.34           3.98   \n",
       "109                          2.07           0.00   \n",
       "84                           0.37          -1.67   \n",
       "..                            ...            ...   \n",
       "119                          0.00           4.85   \n",
       "19                           0.22           1.23   \n",
       "89                           6.38          -3.40   \n",
       "224                          0.36           0.00   \n",
       "97                           0.01           0.00   \n",
       "\n",
       "     Infant mortality (per 1000 births)  GDP ($ per capita)  \\\n",
       "54                                 4.56             31100.0   \n",
       "132                               70.89              1800.0   \n",
       "11                                 4.69             29000.0   \n",
       "109                               24.04              1300.0   \n",
       "84                                35.93              4100.0   \n",
       "..                                  ...                 ...   \n",
       "119                                4.70             25000.0   \n",
       "19                                 4.68             29100.0   \n",
       "89                                73.45              1600.0   \n",
       "224                               61.50               800.0   \n",
       "97                                50.25              1500.0   \n",
       "\n",
       "     Phones (per 1000)  Arable (%)  Crops (%)  Other (%)  Climate  Birthrate  \\\n",
       "54               614.6       54.02       0.19      45.79        3      11.13   \n",
       "132               12.9        0.48       0.01      99.51        1      40.99   \n",
       "11               565.5        6.55       0.04      93.41        1      12.14   \n",
       "109               42.4       20.76       2.49      76.75        3      15.54   \n",
       "84                92.1       12.54       5.03      82.43        2      29.88   \n",
       "..                 ...         ...        ...        ...      ...        ...   \n",
       "119              585.5       25.00       0.00      75.00        4      10.21   \n",
       "19               462.6       23.28       0.40      76.32        3      10.38   \n",
       "89                16.9       28.30      11.61      60.09        2      36.44   \n",
       "224               37.2        2.78       0.24      96.98        1      42.89   \n",
       "97                38.6       13.15       0.78      86.07        1      31.98   \n",
       "\n",
       "     Deathrate  Agriculture  Industry  Service  \n",
       "54       10.36        0.018     0.246    0.735  \n",
       "132      12.16        0.250     0.290    0.460  \n",
       "11        7.51        0.038     0.262    0.700  \n",
       "109       7.13        0.300     0.340    0.360  \n",
       "84        5.20        0.227     0.188    0.585  \n",
       "..         ...          ...       ...      ...  \n",
       "119       7.18        0.060     0.390    0.550  \n",
       "19       10.27        0.010     0.240    0.749  \n",
       "89       12.17        0.280     0.200    0.520  \n",
       "224       8.30        0.135     0.472    0.393  \n",
       "97        5.37        0.073     0.666    0.261  \n",
       "\n",
       "[134 rows x 17 columns]"
      ]
     },
     "execution_count": 20,
     "metadata": {},
     "output_type": "execute_result"
    }
   ],
   "source": [
    "X_train"
   ]
  },
  {
   "cell_type": "code",
   "execution_count": 21,
   "metadata": {},
   "outputs": [
    {
     "data": {
      "text/plain": [
       "86.41999999999999"
      ]
     },
     "execution_count": 21,
     "metadata": {},
     "output_type": "execute_result"
    }
   ],
   "source": [
    "literacy_test.mean()"
   ]
  },
  {
   "cell_type": "code",
   "execution_count": 22,
   "metadata": {},
   "outputs": [
    {
     "data": {
      "text/plain": [
       "LinearRegression(normalize=True)"
      ]
     },
     "execution_count": 22,
     "metadata": {},
     "output_type": "execute_result"
    }
   ],
   "source": [
    "from sklearn.linear_model import LinearRegression\n",
    "\n",
    "literacy_predictor = LinearRegression(normalize=True)\n",
    "literacy_predictor.fit(X_train, literacy_train)"
   ]
  },
  {
   "cell_type": "code",
   "execution_count": 23,
   "metadata": {},
   "outputs": [
    {
     "name": "stdout",
     "output_type": "stream",
     "text": [
      "16.488714978794153\n"
     ]
    },
    {
     "data": {
      "text/plain": [
       "Text(0, 0.5, 'predicted values')"
      ]
     },
     "execution_count": 23,
     "metadata": {},
     "output_type": "execute_result"
    },
    {
     "data": {
      "image/png": "[encoded data removed]",
      "text/plain": [
       "<Figure size 640x640 with 1 Axes>"
      ]
     },
     "metadata": {
      "needs_background": "light"
     },
     "output_type": "display_data"
    }
   ],
   "source": [
    "from sklearn.metrics import mean_squared_error, r2_score\n",
    "literacy_pred = literacy_predictor.predict(X_test)\n",
    "print(mean_squared_error(literacy_test, literacy_pred, squared=False))\n",
    "\n",
    "plt.figure(figsize=(8, 8), dpi=80)\n",
    "plt.plot(literacy_test , literacy_pred, marker='o', linestyle='')\n",
    "plt.xlabel(\"actual values\")\n",
    "plt.ylabel(\"predicted values\")"
   ]
  },
  {
   "cell_type": "markdown",
   "metadata": {},
   "source": [
    "#### call it laziness but this plot is good enough for me and I think it's still better than just filling with average"
   ]
  },
  {
   "cell_type": "markdown",
   "metadata": {},
   "source": [
    "### 3) agriculture_predictor"
   ]
  },
  {
   "cell_type": "code",
   "execution_count": 24,
   "metadata": {},
   "outputs": [],
   "source": [
    "X_train, X_test, agriculture_train, agriculture_test = train_test_split(X_full[X_full.columns.drop('Agriculture')], agriculture_full ,test_size=0.25, shuffle=True, \n",
    "                                         random_state=13)"
   ]
  },
  {
   "cell_type": "code",
   "execution_count": 25,
   "metadata": {},
   "outputs": [
    {
     "data": {
      "text/plain": [
       "LinearRegression(normalize=True)"
      ]
     },
     "execution_count": 25,
     "metadata": {},
     "output_type": "execute_result"
    }
   ],
   "source": [
    "agriculture_predictor = LinearRegression( normalize=True)\n",
    "agriculture_predictor.fit(X_train, agriculture_train)"
   ]
  },
  {
   "cell_type": "code",
   "execution_count": 26,
   "metadata": {},
   "outputs": [
    {
     "name": "stdout",
     "output_type": "stream",
     "text": [
      "0.00019819178469848153\n"
     ]
    },
    {
     "data": {
      "text/plain": [
       "Text(0, 0.5, 'predicted values')"
      ]
     },
     "execution_count": 26,
     "metadata": {},
     "output_type": "execute_result"
    },
    {
     "data": {
      "image/png": "[encoded data removed]",
      "text/plain": [
       "<Figure size 640x640 with 1 Axes>"
      ]
     },
     "metadata": {
      "needs_background": "light"
     },
     "output_type": "display_data"
    }
   ],
   "source": [
    "agriculture_pred = agriculture_predictor.predict(X_test)\n",
    "print(mean_squared_error(agriculture_test, agriculture_pred, squared=True))\n",
    "\n",
    "plt.figure(figsize=(8, 8), dpi=80)\n",
    "plt.plot(agriculture_test , agriculture_pred, marker='o', linestyle='')\n",
    "plt.xlabel(\"actual values\")\n",
    "plt.ylabel(\"predicted values\")"
   ]
  },
  {
   "cell_type": "code",
   "execution_count": null,
   "metadata": {},
   "outputs": [],
   "source": []
  },
  {
   "cell_type": "markdown",
   "metadata": {},
   "source": [
    "### 4) industry_predictor"
   ]
  },
  {
   "cell_type": "code",
   "execution_count": 27,
   "metadata": {},
   "outputs": [],
   "source": [
    "X_train, X_test, industry_train, industry_test = train_test_split(X_full[X_full.columns.drop('Industry')], industry_full ,test_size=0.25, shuffle=True, \n",
    "                                         random_state=13)"
   ]
  },
  {
   "cell_type": "code",
   "execution_count": 28,
   "metadata": {},
   "outputs": [
    {
     "data": {
      "text/plain": [
       "LinearRegression(normalize=True)"
      ]
     },
     "execution_count": 28,
     "metadata": {},
     "output_type": "execute_result"
    }
   ],
   "source": [
    "industry_predictor = LinearRegression( normalize=True)\n",
    "industry_predictor.fit(X_train, industry_train)"
   ]
  },
  {
   "cell_type": "code",
   "execution_count": 29,
   "metadata": {},
   "outputs": [
    {
     "name": "stdout",
     "output_type": "stream",
     "text": [
      "0.00019846354305773993\n"
     ]
    },
    {
     "data": {
      "text/plain": [
       "Text(0, 0.5, 'predicted values')"
      ]
     },
     "execution_count": 29,
     "metadata": {},
     "output_type": "execute_result"
    },
    {
     "data": {
      "image/png": "[encoded data removed]",
      "text/plain": [
       "<Figure size 640x640 with 1 Axes>"
      ]
     },
     "metadata": {
      "needs_background": "light"
     },
     "output_type": "display_data"
    }
   ],
   "source": [
    "industry_pred = industry_predictor.predict(X_test)\n",
    "print(mean_squared_error(industry_test, industry_pred, squared=True))\n",
    "\n",
    "plt.figure(figsize=(8, 8), dpi=80)\n",
    "plt.plot(industry_test , industry_pred, marker='o', linestyle='')\n",
    "plt.xlabel(\"actual values\")\n",
    "plt.ylabel(\"predicted values\")"
   ]
  },
  {
   "cell_type": "code",
   "execution_count": null,
   "metadata": {},
   "outputs": [],
   "source": []
  },
  {
   "cell_type": "markdown",
   "metadata": {},
   "source": [
    "### 5) service_predictor"
   ]
  },
  {
   "cell_type": "code",
   "execution_count": 30,
   "metadata": {},
   "outputs": [],
   "source": [
    "X_train, X_test, service_train, service_test = train_test_split(X_full[X_full.columns.drop('Service')], service_full ,test_size=0.25, shuffle=True, \n",
    "                                         random_state=12)"
   ]
  },
  {
   "cell_type": "code",
   "execution_count": 31,
   "metadata": {},
   "outputs": [
    {
     "data": {
      "text/plain": [
       "LinearRegression()"
      ]
     },
     "execution_count": 31,
     "metadata": {},
     "output_type": "execute_result"
    }
   ],
   "source": [
    "service_predictor = LinearRegression( normalize=False)\n",
    "service_predictor.fit(X_train, service_train)"
   ]
  },
  {
   "cell_type": "code",
   "execution_count": 32,
   "metadata": {},
   "outputs": [
    {
     "data": {
      "text/plain": [
       "0.551865671641791"
      ]
     },
     "execution_count": 32,
     "metadata": {},
     "output_type": "execute_result"
    }
   ],
   "source": [
    "service_train.mean()"
   ]
  },
  {
   "cell_type": "code",
   "execution_count": 33,
   "metadata": {},
   "outputs": [
    {
     "data": {
      "text/plain": [
       "0.5623777777777778"
      ]
     },
     "execution_count": 33,
     "metadata": {},
     "output_type": "execute_result"
    }
   ],
   "source": [
    "service_test.mean()"
   ]
  },
  {
   "cell_type": "code",
   "execution_count": 34,
   "metadata": {},
   "outputs": [
    {
     "name": "stdout",
     "output_type": "stream",
     "text": [
      "0.00019772412506950763\n"
     ]
    },
    {
     "data": {
      "text/plain": [
       "Text(0, 0.5, 'predicted values')"
      ]
     },
     "execution_count": 34,
     "metadata": {},
     "output_type": "execute_result"
    },
    {
     "data": {
      "image/png": "[encoded data removed]",
      "text/plain": [
       "<Figure size 640x640 with 1 Axes>"
      ]
     },
     "metadata": {
      "needs_background": "light"
     },
     "output_type": "display_data"
    }
   ],
   "source": [
    "service_pred = service_predictor.predict(X_test)\n",
    "print(mean_squared_error(service_test, service_pred, squared=True))\n",
    "\n",
    "plt.figure(figsize=(8, 8), dpi=80)\n",
    "plt.plot(service_test , service_pred, marker='o', linestyle='')\n",
    "plt.xlabel(\"actual values\")\n",
    "plt.ylabel(\"predicted values\")"
   ]
  },
  {
   "cell_type": "markdown",
   "metadata": {},
   "source": [
    "ــــــــــــــــــــــــــــــــــــــــــــــــــــــــــــــــــــــــــــــــــــــــــــــــــــــــــــــــــــــــــــــــــــــــــــــــــــــــــــــــــــــــــــــــــــــــــــــــــــــــــــــــــــــــــــــــــــــــــــــــــــــــــــــــــــــــــــــــــــــــــــــــــــ"
   ]
  },
  {
   "cell_type": "markdown",
   "metadata": {},
   "source": [
    "<a name=\"imputer\"></a>\n",
    "#### after realizing my failed attempt to do the manual labor, I found the following code segment to work just fine to fill all the missing data .\n",
    "(+3 houres of work gone with the wind)"
   ]
  },
  {
   "cell_type": "code",
   "execution_count": 35,
   "metadata": {},
   "outputs": [],
   "source": [
    "from sklearn.ensemble import RandomForestRegressor\n",
    "from sklearn.experimental import enable_iterative_imputer\n",
    "from sklearn.impute import IterativeImputer\n",
    "\n",
    "imp_mean = IterativeImputer(estimator=RandomForestRegressor(), random_state=0)\n",
    "imp_mean.fit(df.drop(['Country', 'Region'], axis = 1))\n",
    "\n",
    "new_df = df\n",
    "new_df=pd.DataFrame(imp_mean.transform(df.drop(['Country', 'Region'], axis = 1)))\n",
    "new_df.columns = df.drop(['Country', 'Region'], axis = 1).columns"
   ]
  },
  {
   "cell_type": "code",
   "execution_count": 36,
   "metadata": {},
   "outputs": [
    {
     "name": "stdout",
     "output_type": "stream",
     "text": [
      "<class 'pandas.core.frame.DataFrame'>\n",
      "RangeIndex: 227 entries, 0 to 226\n",
      "Data columns (total 18 columns):\n",
      " #   Column                              Non-Null Count  Dtype  \n",
      "---  ------                              --------------  -----  \n",
      " 0   Population                          227 non-null    float64\n",
      " 1   Area (sq. mi.)                      227 non-null    float64\n",
      " 2   Pop. Density (per sq. mi.)          227 non-null    float64\n",
      " 3   Coastline (coast/area ratio)        227 non-null    float64\n",
      " 4   Net migration                       227 non-null    float64\n",
      " 5   Infant mortality (per 1000 births)  227 non-null    float64\n",
      " 6   GDP ($ per capita)                  227 non-null    float64\n",
      " 7   Literacy (%)                        227 non-null    float64\n",
      " 8   Phones (per 1000)                   227 non-null    float64\n",
      " 9   Arable (%)                          227 non-null    float64\n",
      " 10  Crops (%)                           227 non-null    float64\n",
      " 11  Other (%)                           227 non-null    float64\n",
      " 12  Climate                             227 non-null    float64\n",
      " 13  Birthrate                           227 non-null    float64\n",
      " 14  Deathrate                           227 non-null    float64\n",
      " 15  Agriculture                         227 non-null    float64\n",
      " 16  Industry                            227 non-null    float64\n",
      " 17  Service                             227 non-null    float64\n",
      "dtypes: float64(18)\n",
      "memory usage: 32.0 KB\n"
     ]
    }
   ],
   "source": [
    "#test \n",
    "new_df.info()"
   ]
  },
  {
   "cell_type": "code",
   "execution_count": 37,
   "metadata": {},
   "outputs": [],
   "source": [
    "new_df[\"Climate\"] = new_df[\"Climate\"].astype(int)"
   ]
  },
  {
   "cell_type": "markdown",
   "metadata": {},
   "source": [
    "#### before scaling the features, now that all the features are of numeric type let's see the distribution of the dataset."
   ]
  },
  {
   "cell_type": "code",
   "execution_count": 38,
   "metadata": {},
   "outputs": [
    {
     "data": {
      "text/plain": [
       "array([[<matplotlib.axes._subplots.AxesSubplot object at 0x0000018EE78D1760>,\n",
       "        <matplotlib.axes._subplots.AxesSubplot object at 0x0000018EE78F7C10>,\n",
       "        <matplotlib.axes._subplots.AxesSubplot object at 0x0000018EE7920100>,\n",
       "        <matplotlib.axes._subplots.AxesSubplot object at 0x0000018EE7959520>],\n",
       "       [<matplotlib.axes._subplots.AxesSubplot object at 0x0000018EE7984970>,\n",
       "        <matplotlib.axes._subplots.AxesSubplot object at 0x0000018EE79B2D00>,\n",
       "        <matplotlib.axes._subplots.AxesSubplot object at 0x0000018EE79B2DF0>,\n",
       "        <matplotlib.axes._subplots.AxesSubplot object at 0x0000018EE79EA2E0>],\n",
       "       [<matplotlib.axes._subplots.AxesSubplot object at 0x0000018EE7A44B20>,\n",
       "        <matplotlib.axes._subplots.AxesSubplot object at 0x0000018EE7A73F70>,\n",
       "        <matplotlib.axes._subplots.AxesSubplot object at 0x0000018EE7AAB400>,\n",
       "        <matplotlib.axes._subplots.AxesSubplot object at 0x0000018EE7AD7850>],\n",
       "       [<matplotlib.axes._subplots.AxesSubplot object at 0x0000018EE7B05CA0>,\n",
       "        <matplotlib.axes._subplots.AxesSubplot object at 0x0000018EE7B3E130>,\n",
       "        <matplotlib.axes._subplots.AxesSubplot object at 0x0000018EE7B6B580>,\n",
       "        <matplotlib.axes._subplots.AxesSubplot object at 0x0000018EE7B959D0>],\n",
       "       [<matplotlib.axes._subplots.AxesSubplot object at 0x0000018EE7BC4E20>,\n",
       "        <matplotlib.axes._subplots.AxesSubplot object at 0x0000018EE78D7790>,\n",
       "        <matplotlib.axes._subplots.AxesSubplot object at 0x0000018EE7A0A730>,\n",
       "        <matplotlib.axes._subplots.AxesSubplot object at 0x0000018EE7B140D0>]],\n",
       "      dtype=object)"
      ]
     },
     "execution_count": 38,
     "metadata": {},
     "output_type": "execute_result"
    },
    {
     "data": {
      "image/png": "[encoded data removed]",
      "text/plain": [
       "<Figure size 1800x1440 with 20 Axes>"
      ]
     },
     "metadata": {
      "needs_background": "light"
     },
     "output_type": "display_data"
    }
   ],
   "source": [
    "new_df.hist(bins=32, figsize=(25, 20))"
   ]
  },
  {
   "cell_type": "code",
   "execution_count": 39,
   "metadata": {},
   "outputs": [
    {
     "data": {
      "text/html": [
       "<div>\n",
       "<style scoped>\n",
       "    .dataframe tbody tr th:only-of-type {\n",
       "        vertical-align: middle;\n",
       "    }\n",
       "\n",
       "    .dataframe tbody tr th {\n",
       "        vertical-align: top;\n",
       "    }\n",
       "\n",
       "    .dataframe thead th {\n",
       "        text-align: right;\n",
       "    }\n",
       "</style>\n",
       "<table border=\"1\" class=\"dataframe\">\n",
       "  <thead>\n",
       "    <tr style=\"text-align: right;\">\n",
       "      <th></th>\n",
       "      <th>Population</th>\n",
       "      <th>Area (sq. mi.)</th>\n",
       "      <th>Pop. Density (per sq. mi.)</th>\n",
       "      <th>Coastline (coast/area ratio)</th>\n",
       "      <th>Net migration</th>\n",
       "      <th>Infant mortality (per 1000 births)</th>\n",
       "      <th>GDP ($ per capita)</th>\n",
       "      <th>Literacy (%)</th>\n",
       "      <th>Phones (per 1000)</th>\n",
       "      <th>Arable (%)</th>\n",
       "      <th>Crops (%)</th>\n",
       "      <th>Other (%)</th>\n",
       "      <th>Climate</th>\n",
       "      <th>Birthrate</th>\n",
       "      <th>Deathrate</th>\n",
       "      <th>Agriculture</th>\n",
       "      <th>Industry</th>\n",
       "      <th>Service</th>\n",
       "    </tr>\n",
       "  </thead>\n",
       "  <tbody>\n",
       "    <tr>\n",
       "      <th>count</th>\n",
       "      <td>2.270000e+02</td>\n",
       "      <td>2.270000e+02</td>\n",
       "      <td>227.000000</td>\n",
       "      <td>227.000000</td>\n",
       "      <td>227.000000</td>\n",
       "      <td>227.000000</td>\n",
       "      <td>227.000000</td>\n",
       "      <td>227.000000</td>\n",
       "      <td>227.000000</td>\n",
       "      <td>227.000000</td>\n",
       "      <td>227.000000</td>\n",
       "      <td>227.000000</td>\n",
       "      <td>227.000000</td>\n",
       "      <td>227.000000</td>\n",
       "      <td>227.000000</td>\n",
       "      <td>227.000000</td>\n",
       "      <td>227.000000</td>\n",
       "      <td>227.000000</td>\n",
       "    </tr>\n",
       "    <tr>\n",
       "      <th>mean</th>\n",
       "      <td>2.874028e+07</td>\n",
       "      <td>5.982270e+05</td>\n",
       "      <td>379.047137</td>\n",
       "      <td>21.165330</td>\n",
       "      <td>-0.014230</td>\n",
       "      <td>35.439153</td>\n",
       "      <td>9673.757709</td>\n",
       "      <td>83.360326</td>\n",
       "      <td>236.687678</td>\n",
       "      <td>13.790203</td>\n",
       "      <td>4.544384</td>\n",
       "      <td>81.662353</td>\n",
       "      <td>2.105727</td>\n",
       "      <td>22.074448</td>\n",
       "      <td>9.200161</td>\n",
       "      <td>0.147897</td>\n",
       "      <td>0.281910</td>\n",
       "      <td>0.569070</td>\n",
       "    </tr>\n",
       "    <tr>\n",
       "      <th>std</th>\n",
       "      <td>1.178913e+08</td>\n",
       "      <td>1.790282e+06</td>\n",
       "      <td>1660.185825</td>\n",
       "      <td>72.286863</td>\n",
       "      <td>4.887761</td>\n",
       "      <td>35.188025</td>\n",
       "      <td>10029.802344</td>\n",
       "      <td>19.230752</td>\n",
       "      <td>227.002797</td>\n",
       "      <td>12.982818</td>\n",
       "      <td>8.327117</td>\n",
       "      <td>16.071289</td>\n",
       "      <td>0.720934</td>\n",
       "      <td>11.123290</td>\n",
       "      <td>4.956569</td>\n",
       "      <td>0.142727</td>\n",
       "      <td>0.134073</td>\n",
       "      <td>0.161160</td>\n",
       "    </tr>\n",
       "    <tr>\n",
       "      <th>min</th>\n",
       "      <td>7.026000e+03</td>\n",
       "      <td>2.000000e+00</td>\n",
       "      <td>0.000000</td>\n",
       "      <td>0.000000</td>\n",
       "      <td>-20.990000</td>\n",
       "      <td>2.290000</td>\n",
       "      <td>500.000000</td>\n",
       "      <td>17.600000</td>\n",
       "      <td>0.200000</td>\n",
       "      <td>0.000000</td>\n",
       "      <td>0.000000</td>\n",
       "      <td>33.330000</td>\n",
       "      <td>1.000000</td>\n",
       "      <td>7.290000</td>\n",
       "      <td>2.290000</td>\n",
       "      <td>0.000000</td>\n",
       "      <td>0.020000</td>\n",
       "      <td>0.062000</td>\n",
       "    </tr>\n",
       "    <tr>\n",
       "      <th>25%</th>\n",
       "      <td>4.376240e+05</td>\n",
       "      <td>4.647500e+03</td>\n",
       "      <td>29.150000</td>\n",
       "      <td>0.100000</td>\n",
       "      <td>-1.135000</td>\n",
       "      <td>8.215000</td>\n",
       "      <td>1900.000000</td>\n",
       "      <td>75.300000</td>\n",
       "      <td>38.500000</td>\n",
       "      <td>3.380000</td>\n",
       "      <td>0.190000</td>\n",
       "      <td>71.985000</td>\n",
       "      <td>2.000000</td>\n",
       "      <td>12.725000</td>\n",
       "      <td>5.975000</td>\n",
       "      <td>0.038000</td>\n",
       "      <td>0.200000</td>\n",
       "      <td>0.443500</td>\n",
       "    </tr>\n",
       "    <tr>\n",
       "      <th>50%</th>\n",
       "      <td>4.786994e+06</td>\n",
       "      <td>8.660000e+04</td>\n",
       "      <td>78.800000</td>\n",
       "      <td>0.730000</td>\n",
       "      <td>0.000000</td>\n",
       "      <td>21.030000</td>\n",
       "      <td>5600.000000</td>\n",
       "      <td>92.500000</td>\n",
       "      <td>176.200000</td>\n",
       "      <td>10.530000</td>\n",
       "      <td>1.080000</td>\n",
       "      <td>85.380000</td>\n",
       "      <td>2.000000</td>\n",
       "      <td>18.790000</td>\n",
       "      <td>7.840000</td>\n",
       "      <td>0.100000</td>\n",
       "      <td>0.270910</td>\n",
       "      <td>0.580000</td>\n",
       "    </tr>\n",
       "    <tr>\n",
       "      <th>75%</th>\n",
       "      <td>1.749777e+07</td>\n",
       "      <td>4.418110e+05</td>\n",
       "      <td>190.150000</td>\n",
       "      <td>10.345000</td>\n",
       "      <td>0.980000</td>\n",
       "      <td>55.335000</td>\n",
       "      <td>15700.000000</td>\n",
       "      <td>98.000000</td>\n",
       "      <td>389.650000</td>\n",
       "      <td>20.000000</td>\n",
       "      <td>4.435000</td>\n",
       "      <td>95.230000</td>\n",
       "      <td>3.000000</td>\n",
       "      <td>29.770000</td>\n",
       "      <td>10.580000</td>\n",
       "      <td>0.211000</td>\n",
       "      <td>0.338000</td>\n",
       "      <td>0.675635</td>\n",
       "    </tr>\n",
       "    <tr>\n",
       "      <th>max</th>\n",
       "      <td>1.313974e+09</td>\n",
       "      <td>1.707520e+07</td>\n",
       "      <td>16271.500000</td>\n",
       "      <td>870.660000</td>\n",
       "      <td>23.060000</td>\n",
       "      <td>191.190000</td>\n",
       "      <td>55100.000000</td>\n",
       "      <td>100.000000</td>\n",
       "      <td>1035.600000</td>\n",
       "      <td>62.110000</td>\n",
       "      <td>50.680000</td>\n",
       "      <td>100.000000</td>\n",
       "      <td>4.000000</td>\n",
       "      <td>50.730000</td>\n",
       "      <td>29.740000</td>\n",
       "      <td>0.769000</td>\n",
       "      <td>0.906000</td>\n",
       "      <td>0.954000</td>\n",
       "    </tr>\n",
       "  </tbody>\n",
       "</table>\n",
       "</div>"
      ],
      "text/plain": [
       "         Population  Area (sq. mi.)  Pop. Density (per sq. mi.)  \\\n",
       "count  2.270000e+02    2.270000e+02                  227.000000   \n",
       "mean   2.874028e+07    5.982270e+05                  379.047137   \n",
       "std    1.178913e+08    1.790282e+06                 1660.185825   \n",
       "min    7.026000e+03    2.000000e+00                    0.000000   \n",
       "25%    4.376240e+05    4.647500e+03                   29.150000   \n",
       "50%    4.786994e+06    8.660000e+04                   78.800000   \n",
       "75%    1.749777e+07    4.418110e+05                  190.150000   \n",
       "max    1.313974e+09    1.707520e+07                16271.500000   \n",
       "\n",
       "       Coastline (coast/area ratio)  Net migration  \\\n",
       "count                    227.000000     227.000000   \n",
       "mean                      21.165330      -0.014230   \n",
       "std                       72.286863       4.887761   \n",
       "min                        0.000000     -20.990000   \n",
       "25%                        0.100000      -1.135000   \n",
       "50%                        0.730000       0.000000   \n",
       "75%                       10.345000       0.980000   \n",
       "max                      870.660000      23.060000   \n",
       "\n",
       "       Infant mortality (per 1000 births)  GDP ($ per capita)  Literacy (%)  \\\n",
       "count                          227.000000          227.000000    227.000000   \n",
       "mean                            35.439153         9673.757709     83.360326   \n",
       "std                             35.188025        10029.802344     19.230752   \n",
       "min                              2.290000          500.000000     17.600000   \n",
       "25%                              8.215000         1900.000000     75.300000   \n",
       "50%                             21.030000         5600.000000     92.500000   \n",
       "75%                             55.335000        15700.000000     98.000000   \n",
       "max                            191.190000        55100.000000    100.000000   \n",
       "\n",
       "       Phones (per 1000)  Arable (%)   Crops (%)   Other (%)     Climate  \\\n",
       "count         227.000000  227.000000  227.000000  227.000000  227.000000   \n",
       "mean          236.687678   13.790203    4.544384   81.662353    2.105727   \n",
       "std           227.002797   12.982818    8.327117   16.071289    0.720934   \n",
       "min             0.200000    0.000000    0.000000   33.330000    1.000000   \n",
       "25%            38.500000    3.380000    0.190000   71.985000    2.000000   \n",
       "50%           176.200000   10.530000    1.080000   85.380000    2.000000   \n",
       "75%           389.650000   20.000000    4.435000   95.230000    3.000000   \n",
       "max          1035.600000   62.110000   50.680000  100.000000    4.000000   \n",
       "\n",
       "        Birthrate   Deathrate  Agriculture    Industry     Service  \n",
       "count  227.000000  227.000000   227.000000  227.000000  227.000000  \n",
       "mean    22.074448    9.200161     0.147897    0.281910    0.569070  \n",
       "std     11.123290    4.956569     0.142727    0.134073    0.161160  \n",
       "min      7.290000    2.290000     0.000000    0.020000    0.062000  \n",
       "25%     12.725000    5.975000     0.038000    0.200000    0.443500  \n",
       "50%     18.790000    7.840000     0.100000    0.270910    0.580000  \n",
       "75%     29.770000   10.580000     0.211000    0.338000    0.675635  \n",
       "max     50.730000   29.740000     0.769000    0.906000    0.954000  "
      ]
     },
     "execution_count": 39,
     "metadata": {},
     "output_type": "execute_result"
    }
   ],
   "source": [
    "new_df.describe()\n"
   ]
  },
  {
   "cell_type": "code",
   "execution_count": 40,
   "metadata": {},
   "outputs": [
    {
     "name": "stdout",
     "output_type": "stream",
     "text": [
      "<class 'pandas.core.frame.DataFrame'>\n",
      "RangeIndex: 227 entries, 0 to 226\n",
      "Data columns (total 18 columns):\n",
      " #   Column                              Non-Null Count  Dtype  \n",
      "---  ------                              --------------  -----  \n",
      " 0   Population                          227 non-null    float64\n",
      " 1   Area (sq. mi.)                      227 non-null    float64\n",
      " 2   Pop. Density (per sq. mi.)          227 non-null    float64\n",
      " 3   Coastline (coast/area ratio)        227 non-null    float64\n",
      " 4   Net migration                       227 non-null    float64\n",
      " 5   Infant mortality (per 1000 births)  227 non-null    float64\n",
      " 6   GDP ($ per capita)                  227 non-null    float64\n",
      " 7   Literacy (%)                        227 non-null    float64\n",
      " 8   Phones (per 1000)                   227 non-null    float64\n",
      " 9   Arable (%)                          227 non-null    float64\n",
      " 10  Crops (%)                           227 non-null    float64\n",
      " 11  Other (%)                           227 non-null    float64\n",
      " 12  Climate                             227 non-null    int32  \n",
      " 13  Birthrate                           227 non-null    float64\n",
      " 14  Deathrate                           227 non-null    float64\n",
      " 15  Agriculture                         227 non-null    float64\n",
      " 16  Industry                            227 non-null    float64\n",
      " 17  Service                             227 non-null    float64\n",
      "dtypes: float64(17), int32(1)\n",
      "memory usage: 31.2 KB\n"
     ]
    }
   ],
   "source": [
    "# new_df['Agriculture'] = new_df['Agriculture'] + 1\n",
    "# new_df['Crops (%)'] = new_df['Crops (%)'] + 1\n",
    "# new_df['Arable (%)'] = new_df['Arable (%)'] + 1\n",
    "# new_df['Net migration'] = new_df['Net migration'] + 21\n",
    "# new_df['Coastline (coast/area ratio)'] = new_df['Coastline (coast/area ratio)'] + 1\n",
    "# new_df['Pop. Density (per sq. mi.)'] = new_df['Pop. Density (per sq. mi.)'] + 1\n",
    "new_df.info()\n",
    "\n",
    "# my initial itention was to use log transformation.\n",
    "# that's why i added some constants on the columns that contain 0 or negatives in them"
   ]
  },
  {
   "cell_type": "markdown",
   "metadata": {},
   "source": [
    "## 4. <a name=\"4\">Features transformation</a>\n",
    "(<a href=\"#0\">Go to top</a>)"
   ]
  },
  {
   "cell_type": "markdown",
   "metadata": {},
   "source": [
    "*What is the feature scaling technique that would use and why?* <br>\n",
    "*return to this section again and try another technique and see how that will impact your result*<br>\n",
    "for more details on different methods for scaling check these links\n",
    "- https://scikit-learn.org/stable/modules/preprocessing.html#preprocessing\n",
    "- https://scikit-learn.org/stable/modules/classes.html#module-sklearn.preprocessing\n",
    "- https://www.analyticsvidhya.com/blog/2020/07/types-of-feature-transformation-and-scaling/"
   ]
  },
  {
   "cell_type": "markdown",
   "metadata": {},
   "source": [
    "### I used log transformation and imported robust scaler from scikit learn, and both gave almost identical resultes for the k-means algorithm (over 95% of the data in one cluster). using standardScaler not only has the SSE gotten much lower, but also there seems to be more realistic percentage of data in each cluster."
   ]
  },
  {
   "cell_type": "code",
   "execution_count": 41,
   "metadata": {},
   "outputs": [
    {
     "data": {
      "text/html": [
       "<div>\n",
       "<style scoped>\n",
       "    .dataframe tbody tr th:only-of-type {\n",
       "        vertical-align: middle;\n",
       "    }\n",
       "\n",
       "    .dataframe tbody tr th {\n",
       "        vertical-align: top;\n",
       "    }\n",
       "\n",
       "    .dataframe thead th {\n",
       "        text-align: right;\n",
       "    }\n",
       "</style>\n",
       "<table border=\"1\" class=\"dataframe\">\n",
       "  <thead>\n",
       "    <tr style=\"text-align: right;\">\n",
       "      <th></th>\n",
       "      <th>Population</th>\n",
       "      <th>Area (sq. mi.)</th>\n",
       "      <th>Pop. Density (per sq. mi.)</th>\n",
       "      <th>Coastline (coast/area ratio)</th>\n",
       "      <th>Net migration</th>\n",
       "      <th>Infant mortality (per 1000 births)</th>\n",
       "      <th>GDP ($ per capita)</th>\n",
       "      <th>Literacy (%)</th>\n",
       "      <th>Phones (per 1000)</th>\n",
       "      <th>Arable (%)</th>\n",
       "      <th>Crops (%)</th>\n",
       "      <th>Other (%)</th>\n",
       "      <th>Climate</th>\n",
       "      <th>Birthrate</th>\n",
       "      <th>Deathrate</th>\n",
       "      <th>Agriculture</th>\n",
       "      <th>Industry</th>\n",
       "      <th>Service</th>\n",
       "    </tr>\n",
       "  </thead>\n",
       "  <tbody>\n",
       "    <tr>\n",
       "      <th>0</th>\n",
       "      <td>0.019695</td>\n",
       "      <td>0.027583</td>\n",
       "      <td>-0.199844</td>\n",
       "      <td>-0.293443</td>\n",
       "      <td>4.731251</td>\n",
       "      <td>3.635126</td>\n",
       "      <td>-0.896687</td>\n",
       "      <td>-2.468182</td>\n",
       "      <td>-1.030840</td>\n",
       "      <td>-0.128160</td>\n",
       "      <td>-0.520461</td>\n",
       "      <td>0.373391</td>\n",
       "      <td>-1.537132</td>\n",
       "      <td>2.209756</td>\n",
       "      <td>2.252457</td>\n",
       "      <td>1.629794</td>\n",
       "      <td>-0.313281</td>\n",
       "      <td>-1.175777</td>\n",
       "    </tr>\n",
       "    <tr>\n",
       "      <th>1</th>\n",
       "      <td>-0.213877</td>\n",
       "      <td>-0.318797</td>\n",
       "      <td>-0.153603</td>\n",
       "      <td>-0.275974</td>\n",
       "      <td>-1.007953</td>\n",
       "      <td>-0.396439</td>\n",
       "      <td>-0.516978</td>\n",
       "      <td>0.163624</td>\n",
       "      <td>-0.730623</td>\n",
       "      <td>0.563509</td>\n",
       "      <td>-0.014970</td>\n",
       "      <td>-0.447270</td>\n",
       "      <td>1.243178</td>\n",
       "      <td>-0.627498</td>\n",
       "      <td>-0.804782</td>\n",
       "      <td>0.590558</td>\n",
       "      <td>-0.701987</td>\n",
       "      <td>0.061751</td>\n",
       "    </tr>\n",
       "    <tr>\n",
       "      <th>2</th>\n",
       "      <td>0.035618</td>\n",
       "      <td>0.998421</td>\n",
       "      <td>-0.220490</td>\n",
       "      <td>-0.292889</td>\n",
       "      <td>-0.077050</td>\n",
       "      <td>-0.126434</td>\n",
       "      <td>-0.367094</td>\n",
       "      <td>-0.696273</td>\n",
       "      <td>-0.700159</td>\n",
       "      <td>-0.815968</td>\n",
       "      <td>-0.516850</td>\n",
       "      <td>0.927150</td>\n",
       "      <td>-1.537132</td>\n",
       "      <td>-0.444594</td>\n",
       "      <td>-0.928123</td>\n",
       "      <td>-0.329307</td>\n",
       "      <td>2.377762</td>\n",
       "      <td>-1.685713</td>\n",
       "    </tr>\n",
       "    <tr>\n",
       "      <th>3</th>\n",
       "      <td>-0.243834</td>\n",
       "      <td>-0.334779</td>\n",
       "      <td>-0.053514</td>\n",
       "      <td>0.514709</td>\n",
       "      <td>-4.243560</td>\n",
       "      <td>-0.745338</td>\n",
       "      <td>-0.167247</td>\n",
       "      <td>0.710831</td>\n",
       "      <td>0.100716</td>\n",
       "      <td>-0.292585</td>\n",
       "      <td>1.258385</td>\n",
       "      <td>-0.415466</td>\n",
       "      <td>-0.146977</td>\n",
       "      <td>0.034738</td>\n",
       "      <td>-1.199069</td>\n",
       "      <td>-0.449521</td>\n",
       "      <td>-0.090821</td>\n",
       "      <td>0.482261</td>\n",
       "    </tr>\n",
       "    <tr>\n",
       "      <th>4</th>\n",
       "      <td>-0.243720</td>\n",
       "      <td>-0.334629</td>\n",
       "      <td>-0.137002</td>\n",
       "      <td>-0.293443</td>\n",
       "      <td>1.356213</td>\n",
       "      <td>-0.894012</td>\n",
       "      <td>0.931908</td>\n",
       "      <td>0.867176</td>\n",
       "      <td>1.150153</td>\n",
       "      <td>-0.893163</td>\n",
       "      <td>-0.546939</td>\n",
       "      <td>1.005101</td>\n",
       "      <td>1.243178</td>\n",
       "      <td>-1.204139</td>\n",
       "      <td>-0.596518</td>\n",
       "      <td>-0.847099</td>\n",
       "      <td>-0.024218</td>\n",
       "      <td>0.695191</td>\n",
       "    </tr>\n",
       "    <tr>\n",
       "      <th>...</th>\n",
       "      <td>...</td>\n",
       "      <td>...</td>\n",
       "      <td>...</td>\n",
       "      <td>...</td>\n",
       "      <td>...</td>\n",
       "      <td>...</td>\n",
       "      <td>...</td>\n",
       "      <td>...</td>\n",
       "      <td>...</td>\n",
       "      <td>...</td>\n",
       "      <td>...</td>\n",
       "      <td>...</td>\n",
       "      <td>...</td>\n",
       "      <td>...</td>\n",
       "      <td>...</td>\n",
       "      <td>...</td>\n",
       "      <td>...</td>\n",
       "      <td>...</td>\n",
       "    </tr>\n",
       "    <tr>\n",
       "      <th>222</th>\n",
       "      <td>-0.223408</td>\n",
       "      <td>-0.331610</td>\n",
       "      <td>0.024662</td>\n",
       "      <td>-0.293443</td>\n",
       "      <td>0.613951</td>\n",
       "      <td>-0.450554</td>\n",
       "      <td>-0.886694</td>\n",
       "      <td>-0.237453</td>\n",
       "      <td>-0.403915</td>\n",
       "      <td>0.240061</td>\n",
       "      <td>1.736195</td>\n",
       "      <td>-1.093322</td>\n",
       "      <td>1.243178</td>\n",
       "      <td>0.864561</td>\n",
       "      <td>-1.067640</td>\n",
       "      <td>-0.406547</td>\n",
       "      <td>-0.014276</td>\n",
       "      <td>0.378906</td>\n",
       "    </tr>\n",
       "    <tr>\n",
       "      <th>223</th>\n",
       "      <td>-0.242004</td>\n",
       "      <td>-0.185982</td>\n",
       "      <td>-0.228217</td>\n",
       "      <td>-0.287620</td>\n",
       "      <td>-0.384227</td>\n",
       "      <td>-0.114361</td>\n",
       "      <td>-0.362797</td>\n",
       "      <td>0.440563</td>\n",
       "      <td>-0.320998</td>\n",
       "      <td>-1.062992</td>\n",
       "      <td>-0.546939</td>\n",
       "      <td>1.142293</td>\n",
       "      <td>-1.537132</td>\n",
       "      <td>-0.461047</td>\n",
       "      <td>-0.369226</td>\n",
       "      <td>-0.131290</td>\n",
       "      <td>1.272042</td>\n",
       "      <td>-1.051403</td>\n",
       "    </tr>\n",
       "    <tr>\n",
       "      <th>224</th>\n",
       "      <td>-0.061923</td>\n",
       "      <td>-0.039330</td>\n",
       "      <td>-0.204312</td>\n",
       "      <td>-0.288452</td>\n",
       "      <td>0.002918</td>\n",
       "      <td>0.742254</td>\n",
       "      <td>-0.886694</td>\n",
       "      <td>-1.728149</td>\n",
       "      <td>-0.880732</td>\n",
       "      <td>-0.849934</td>\n",
       "      <td>-0.518054</td>\n",
       "      <td>0.955213</td>\n",
       "      <td>-1.537132</td>\n",
       "      <td>1.875484</td>\n",
       "      <td>-0.182011</td>\n",
       "      <td>-0.090563</td>\n",
       "      <td>1.420947</td>\n",
       "      <td>-1.094934</td>\n",
       "    </tr>\n",
       "    <tr>\n",
       "      <th>225</th>\n",
       "      <td>-0.146545</td>\n",
       "      <td>0.086427</td>\n",
       "      <td>-0.219584</td>\n",
       "      <td>-0.293443</td>\n",
       "      <td>0.002918</td>\n",
       "      <td>1.505275</td>\n",
       "      <td>-0.886694</td>\n",
       "      <td>-0.143854</td>\n",
       "      <td>-1.008766</td>\n",
       "      <td>-0.517995</td>\n",
       "      <td>-0.543329</td>\n",
       "      <td>0.700783</td>\n",
       "      <td>-0.146977</td>\n",
       "      <td>1.705195</td>\n",
       "      <td>2.169556</td>\n",
       "      <td>0.506295</td>\n",
       "      <td>0.060475</td>\n",
       "      <td>-0.497935</td>\n",
       "    </tr>\n",
       "    <tr>\n",
       "      <th>226</th>\n",
       "      <td>-0.140298</td>\n",
       "      <td>-0.116242</td>\n",
       "      <td>-0.209926</td>\n",
       "      <td>-0.293443</td>\n",
       "      <td>0.002918</td>\n",
       "      <td>0.918555</td>\n",
       "      <td>-0.776779</td>\n",
       "      <td>0.382507</td>\n",
       "      <td>-0.926647</td>\n",
       "      <td>-0.422273</td>\n",
       "      <td>-0.506019</td>\n",
       "      <td>0.603501</td>\n",
       "      <td>-0.146977</td>\n",
       "      <td>0.534794</td>\n",
       "      <td>2.555755</td>\n",
       "      <td>0.218399</td>\n",
       "      <td>-0.290856</td>\n",
       "      <td>0.061751</td>\n",
       "    </tr>\n",
       "  </tbody>\n",
       "</table>\n",
       "<p>227 rows × 18 columns</p>\n",
       "</div>"
      ],
      "text/plain": [
       "     Population  Area (sq. mi.)  Pop. Density (per sq. mi.)  \\\n",
       "0      0.019695        0.027583                   -0.199844   \n",
       "1     -0.213877       -0.318797                   -0.153603   \n",
       "2      0.035618        0.998421                   -0.220490   \n",
       "3     -0.243834       -0.334779                   -0.053514   \n",
       "4     -0.243720       -0.334629                   -0.137002   \n",
       "..          ...             ...                         ...   \n",
       "222   -0.223408       -0.331610                    0.024662   \n",
       "223   -0.242004       -0.185982                   -0.228217   \n",
       "224   -0.061923       -0.039330                   -0.204312   \n",
       "225   -0.146545        0.086427                   -0.219584   \n",
       "226   -0.140298       -0.116242                   -0.209926   \n",
       "\n",
       "     Coastline (coast/area ratio)  Net migration  \\\n",
       "0                       -0.293443       4.731251   \n",
       "1                       -0.275974      -1.007953   \n",
       "2                       -0.292889      -0.077050   \n",
       "3                        0.514709      -4.243560   \n",
       "4                       -0.293443       1.356213   \n",
       "..                            ...            ...   \n",
       "222                     -0.293443       0.613951   \n",
       "223                     -0.287620      -0.384227   \n",
       "224                     -0.288452       0.002918   \n",
       "225                     -0.293443       0.002918   \n",
       "226                     -0.293443       0.002918   \n",
       "\n",
       "     Infant mortality (per 1000 births)  GDP ($ per capita)  Literacy (%)  \\\n",
       "0                              3.635126           -0.896687     -2.468182   \n",
       "1                             -0.396439           -0.516978      0.163624   \n",
       "2                             -0.126434           -0.367094     -0.696273   \n",
       "3                             -0.745338           -0.167247      0.710831   \n",
       "4                             -0.894012            0.931908      0.867176   \n",
       "..                                  ...                 ...           ...   \n",
       "222                           -0.450554           -0.886694     -0.237453   \n",
       "223                           -0.114361           -0.362797      0.440563   \n",
       "224                            0.742254           -0.886694     -1.728149   \n",
       "225                            1.505275           -0.886694     -0.143854   \n",
       "226                            0.918555           -0.776779      0.382507   \n",
       "\n",
       "     Phones (per 1000)  Arable (%)  Crops (%)  Other (%)   Climate  Birthrate  \\\n",
       "0            -1.030840   -0.128160  -0.520461   0.373391 -1.537132   2.209756   \n",
       "1            -0.730623    0.563509  -0.014970  -0.447270  1.243178  -0.627498   \n",
       "2            -0.700159   -0.815968  -0.516850   0.927150 -1.537132  -0.444594   \n",
       "3             0.100716   -0.292585   1.258385  -0.415466 -0.146977   0.034738   \n",
       "4             1.150153   -0.893163  -0.546939   1.005101  1.243178  -1.204139   \n",
       "..                 ...         ...        ...        ...       ...        ...   \n",
       "222          -0.403915    0.240061   1.736195  -1.093322  1.243178   0.864561   \n",
       "223          -0.320998   -1.062992  -0.546939   1.142293 -1.537132  -0.461047   \n",
       "224          -0.880732   -0.849934  -0.518054   0.955213 -1.537132   1.875484   \n",
       "225          -1.008766   -0.517995  -0.543329   0.700783 -0.146977   1.705195   \n",
       "226          -0.926647   -0.422273  -0.506019   0.603501 -0.146977   0.534794   \n",
       "\n",
       "     Deathrate  Agriculture  Industry   Service  \n",
       "0     2.252457     1.629794 -0.313281 -1.175777  \n",
       "1    -0.804782     0.590558 -0.701987  0.061751  \n",
       "2    -0.928123    -0.329307  2.377762 -1.685713  \n",
       "3    -1.199069    -0.449521 -0.090821  0.482261  \n",
       "4    -0.596518    -0.847099 -0.024218  0.695191  \n",
       "..         ...          ...       ...       ...  \n",
       "222  -1.067640    -0.406547 -0.014276  0.378906  \n",
       "223  -0.369226    -0.131290  1.272042 -1.051403  \n",
       "224  -0.182011    -0.090563  1.420947 -1.094934  \n",
       "225   2.169556     0.506295  0.060475 -0.497935  \n",
       "226   2.555755     0.218399 -0.290856  0.061751  \n",
       "\n",
       "[227 rows x 18 columns]"
      ]
     },
     "execution_count": 41,
     "metadata": {},
     "output_type": "execute_result"
    }
   ],
   "source": [
    "# from sklearn import preprocessing\n",
    "# scaler = preprocessing.StandardScaler().fit(new_df)\n",
    "\n",
    "\n",
    "from sklearn.preprocessing import RobustScaler\n",
    "from sklearn.preprocessing import StandardScaler\n",
    "\n",
    "# scaler = RobustScaler()\n",
    "scaler = StandardScaler()\n",
    "# standard_scaled = new_df.copy()\n",
    "\n",
    "# log_scaled_df = new_df.copy()\n",
    "scaled_df = new_df.copy()\n",
    "\n",
    "\n",
    "# log_scaled_df[new_df.columns] = np.log(new_df[new_df.columns])\n",
    "# log_scaled_df\n",
    "scaled_df[new_df.columns] = scaler.fit_transform(new_df[new_df.columns])\n",
    "scaled_df\n",
    "\n"
   ]
  },
  {
   "cell_type": "code",
   "execution_count": 42,
   "metadata": {},
   "outputs": [
    {
     "data": {
      "text/plain": [
       "array([[<matplotlib.axes._subplots.AxesSubplot object at 0x0000018EE839F850>,\n",
       "        <matplotlib.axes._subplots.AxesSubplot object at 0x0000018EE7F02A60>,\n",
       "        <matplotlib.axes._subplots.AxesSubplot object at 0x0000018EE8E739A0>,\n",
       "        <matplotlib.axes._subplots.AxesSubplot object at 0x0000018EE8EB1D30>],\n",
       "       [<matplotlib.axes._subplots.AxesSubplot object at 0x0000018EE8DA2C10>,\n",
       "        <matplotlib.axes._subplots.AxesSubplot object at 0x0000018EE8E4C4C0>,\n",
       "        <matplotlib.axes._subplots.AxesSubplot object at 0x0000018EE8E4C370>,\n",
       "        <matplotlib.axes._subplots.AxesSubplot object at 0x0000018EE841F250>],\n",
       "       [<matplotlib.axes._subplots.AxesSubplot object at 0x0000018EE8478A60>,\n",
       "        <matplotlib.axes._subplots.AxesSubplot object at 0x0000018EE84A6EB0>,\n",
       "        <matplotlib.axes._subplots.AxesSubplot object at 0x0000018EE84DD340>,\n",
       "        <matplotlib.axes._subplots.AxesSubplot object at 0x0000018EE850A790>],\n",
       "       [<matplotlib.axes._subplots.AxesSubplot object at 0x0000018EE8537BE0>,\n",
       "        <matplotlib.axes._subplots.AxesSubplot object at 0x0000018EE85640D0>,\n",
       "        <matplotlib.axes._subplots.AxesSubplot object at 0x0000018EE859D4C0>,\n",
       "        <matplotlib.axes._subplots.AxesSubplot object at 0x0000018EE85CA910>],\n",
       "       [<matplotlib.axes._subplots.AxesSubplot object at 0x0000018EE85F7D60>,\n",
       "        <matplotlib.axes._subplots.AxesSubplot object at 0x0000018EE86311F0>,\n",
       "        <matplotlib.axes._subplots.AxesSubplot object at 0x0000018EE865D580>,\n",
       "        <matplotlib.axes._subplots.AxesSubplot object at 0x0000018EE867DB80>]],\n",
       "      dtype=object)"
      ]
     },
     "execution_count": 42,
     "metadata": {},
     "output_type": "execute_result"
    },
    {
     "data": {
      "image/png": "[encoded data removed]",
      "text/plain": [
       "<Figure size 1800x1440 with 20 Axes>"
      ]
     },
     "metadata": {
      "needs_background": "light"
     },
     "output_type": "display_data"
    }
   ],
   "source": [
    "# df_scaled = pd.DataFrame(scaler.transform(new_df))\n",
    "# df_scaled.columns = df.columns\n",
    "scaled_df.hist(bins=32, figsize=(25, 20))"
   ]
  },
  {
   "cell_type": "code",
   "execution_count": 43,
   "metadata": {},
   "outputs": [
    {
     "name": "stdout",
     "output_type": "stream",
     "text": [
      "<class 'pandas.core.frame.DataFrame'>\n",
      "RangeIndex: 227 entries, 0 to 226\n",
      "Data columns (total 18 columns):\n",
      " #   Column                              Non-Null Count  Dtype  \n",
      "---  ------                              --------------  -----  \n",
      " 0   Population                          227 non-null    float64\n",
      " 1   Area (sq. mi.)                      227 non-null    float64\n",
      " 2   Pop. Density (per sq. mi.)          227 non-null    float64\n",
      " 3   Coastline (coast/area ratio)        227 non-null    float64\n",
      " 4   Net migration                       227 non-null    float64\n",
      " 5   Infant mortality (per 1000 births)  227 non-null    float64\n",
      " 6   GDP ($ per capita)                  227 non-null    float64\n",
      " 7   Literacy (%)                        227 non-null    float64\n",
      " 8   Phones (per 1000)                   227 non-null    float64\n",
      " 9   Arable (%)                          227 non-null    float64\n",
      " 10  Crops (%)                           227 non-null    float64\n",
      " 11  Other (%)                           227 non-null    float64\n",
      " 12  Climate                             227 non-null    float64\n",
      " 13  Birthrate                           227 non-null    float64\n",
      " 14  Deathrate                           227 non-null    float64\n",
      " 15  Agriculture                         227 non-null    float64\n",
      " 16  Industry                            227 non-null    float64\n",
      " 17  Service                             227 non-null    float64\n",
      "dtypes: float64(18)\n",
      "memory usage: 32.0 KB\n"
     ]
    }
   ],
   "source": [
    "scaled_df.info()"
   ]
  },
  {
   "cell_type": "markdown",
   "metadata": {},
   "source": [
    "## 5. <a name=\"5\">Training and hyperparamter tuning</a>\n",
    "(<a href=\"#0\">Go to top</a>)\n"
   ]
  },
  {
   "cell_type": "markdown",
   "metadata": {},
   "source": [
    "Before we start the training process we need to specify 3 paramters:<br>\n",
    "- Number of clusters\n"
   ]
  },
  {
   "cell_type": "markdown",
   "metadata": {},
   "source": [
    "### *Number of clusters*\n",
    "Use elbow method to specify the optimum number of clusters\n",
    "- Compare how changing linkage criteria or distance function would affect the optimum number of clusters\n",
    "- you can use silhouette_score or any other evalution method to help you determine the optimum number of clusters\n",
    "https://scikit-learn.org/stable/modules/generated/sklearn.metrics.silhouette_score.html"
   ]
  },
  {
   "cell_type": "code",
   "execution_count": 44,
   "metadata": {},
   "outputs": [
    {
     "data": {
      "image/png": "[encoded data removed]",
      "text/plain": [
       "<Figure size 432x288 with 1 Axes>"
      ]
     },
     "metadata": {
      "needs_background": "light"
     },
     "output_type": "display_data"
    }
   ],
   "source": [
    "#training\n",
    "#import k means\n",
    "from sklearn.cluster import KMeans\n",
    "\n",
    "sse = {}\n",
    "for i in range(1, 10):\n",
    "    kmeans = KMeans(n_clusters=i, max_iter=1000).fit(scaled_df)\n",
    "#     scaled_df[\"clusters\"] = kmeans.labels_\n",
    "#     print(log_scaled_df[\"clusters\"])\n",
    "    sse[i] = kmeans.inertia_ # Inertia: Sum of distances of samples to their closest cluster center\n",
    "plt.figure()\n",
    "plt.plot(list(sse.keys()), list(sse.values()))\n",
    "plt.xlabel(\"Number of cluster\")\n",
    "plt.ylabel(\"SSE\")\n",
    "plt.show()"
   ]
  },
  {
   "cell_type": "markdown",
   "metadata": {},
   "source": [
    "no 100% clear elbow but let's take 2 or 3 as optimum k"
   ]
  },
  {
   "cell_type": "code",
   "execution_count": 45,
   "metadata": {},
   "outputs": [
    {
     "data": {
      "text/plain": [
       "array([[ 0.13501257,  0.01785267, -0.11638218,  0.03241437, -0.43227347,\n",
       "        -0.26072372, -0.36836408,  0.20067258, -0.30545276, -0.05737757,\n",
       "         0.40742287, -0.16463393, -0.2386353 , -0.11854116, -0.55473033,\n",
       "        -0.15294667,  0.31210154, -0.13339866],\n",
       "       [-0.10775966,  0.03614998,  0.27625695,  0.17017295,  0.47649039,\n",
       "        -0.7858759 ,  1.06759316,  0.72449894,  1.13410419,  0.16963518,\n",
       "        -0.30419033,  0.02057436,  0.69443283, -0.89118288, -0.16365354,\n",
       "        -0.70277281, -0.30969586,  0.88782508],\n",
       "       [-0.06827351, -0.07286652, -0.1734125 , -0.26471419,  0.05206027,\n",
       "         1.39087378, -0.79359915, -1.22205207, -0.97326195, -0.12784858,\n",
       "        -0.23261693,  0.22363394, -0.51768472,  1.30861907,  1.04863548,\n",
       "         1.12214801, -0.08107259, -0.92225712]])"
      ]
     },
     "execution_count": 45,
     "metadata": {},
     "output_type": "execute_result"
    }
   ],
   "source": [
    "# lable = kmeans.fit_predict(scaled_df)\n",
    "# scaled_df[\"clusters\"] = kmeans.labels_\n",
    "# kmeans.labels_\n",
    " \n",
    "kmeans = KMeans(n_clusters= 3)\n",
    " \n",
    "kmeans.fit_predict(scaled_df)\n",
    "kmeans.cluster_centers_\n",
    "\n"
   ]
  },
  {
   "cell_type": "markdown",
   "metadata": {},
   "source": [
    "### plotting the countries againnst 2 arbitrary features for visuallization"
   ]
  },
  {
   "cell_type": "code",
   "execution_count": 46,
   "metadata": {},
   "outputs": [
    {
     "data": {
      "text/plain": [
       "<matplotlib.axes._subplots.AxesSubplot at 0x18eea0bc700>"
      ]
     },
     "execution_count": 46,
     "metadata": {},
     "output_type": "execute_result"
    },
    {
     "data": {
      "image/png": "[encoded data removed]",
      "text/plain": [
       "<Figure size 864x432 with 1 Axes>"
      ]
     },
     "metadata": {
      "needs_background": "light"
     },
     "output_type": "display_data"
    }
   ],
   "source": [
    "scaled_df['Cluster'] = kmeans.labels_\n",
    "plt.subplots(figsize=(12,6))\n",
    "sns.scatterplot(x='Population',y='Area (sq. mi.)', hue='Cluster', data=scaled_df, markers='*', palette='coolwarm')"
   ]
  },
  {
   "cell_type": "code",
   "execution_count": 47,
   "metadata": {},
   "outputs": [
    {
     "data": {
      "text/plain": [
       "GaussianMixture(n_components=3, random_state=0)"
      ]
     },
     "execution_count": 47,
     "metadata": {},
     "output_type": "execute_result"
    }
   ],
   "source": [
    "#import EM\n",
    "from sklearn.mixture import GaussianMixture\n",
    "gm = GaussianMixture(n_components=3, random_state=0)\n",
    "gm.fit(scaled_df)"
   ]
  },
  {
   "cell_type": "markdown",
   "metadata": {},
   "source": [
    "### plotting the countries againnst 2 arbitrary features for visuallization"
   ]
  },
  {
   "cell_type": "code",
   "execution_count": 48,
   "metadata": {},
   "outputs": [
    {
     "data": {
      "text/plain": [
       "<matplotlib.axes._subplots.AxesSubplot at 0x18eebd79700>"
      ]
     },
     "execution_count": 48,
     "metadata": {},
     "output_type": "execute_result"
    },
    {
     "data": {
      "image/png": "[encoded data removed]",
      "text/plain": [
       "<Figure size 864x432 with 1 Axes>"
      ]
     },
     "metadata": {
      "needs_background": "light"
     },
     "output_type": "display_data"
    }
   ],
   "source": [
    "scaled_df['Cluster']=gm.fit_predict(scaled_df)\n",
    "plt.subplots(figsize=(12,6))\n",
    "sns.scatterplot(x='Population',y='Area (sq. mi.)', hue='Cluster', data=scaled_df, markers='*', palette='coolwarm')"
   ]
  },
  {
   "cell_type": "code",
   "execution_count": 49,
   "metadata": {},
   "outputs": [],
   "source": [
    "scaled_df['Country'] = df['Country']"
   ]
  },
  {
   "cell_type": "code",
   "execution_count": null,
   "metadata": {},
   "outputs": [],
   "source": []
  },
  {
   "cell_type": "code",
   "execution_count": null,
   "metadata": {},
   "outputs": [],
   "source": []
  },
  {
   "cell_type": "code",
   "execution_count": 50,
   "metadata": {},
   "outputs": [
    {
     "name": "stdout",
     "output_type": "stream",
     "text": [
      "Countries in each cluster(using EM):-\n"
     ]
    },
    {
     "data": {
      "text/html": [
       "<div>\n",
       "<style scoped>\n",
       "    .dataframe tbody tr th:only-of-type {\n",
       "        vertical-align: middle;\n",
       "    }\n",
       "\n",
       "    .dataframe tbody tr th {\n",
       "        vertical-align: top;\n",
       "    }\n",
       "\n",
       "    .dataframe thead th {\n",
       "        text-align: right;\n",
       "    }\n",
       "</style>\n",
       "<table border=\"1\" class=\"dataframe\">\n",
       "  <thead>\n",
       "    <tr style=\"text-align: right;\">\n",
       "      <th></th>\n",
       "      <th>Cluster 0</th>\n",
       "    </tr>\n",
       "  </thead>\n",
       "  <tbody>\n",
       "    <tr>\n",
       "      <th>0</th>\n",
       "      <td>American Samoa</td>\n",
       "    </tr>\n",
       "    <tr>\n",
       "      <th>1</th>\n",
       "      <td>Comoros</td>\n",
       "    </tr>\n",
       "    <tr>\n",
       "      <th>2</th>\n",
       "      <td>Cook Islands</td>\n",
       "    </tr>\n",
       "    <tr>\n",
       "      <th>3</th>\n",
       "      <td>Dominica</td>\n",
       "    </tr>\n",
       "    <tr>\n",
       "      <th>4</th>\n",
       "      <td>Gaza Strip</td>\n",
       "    </tr>\n",
       "    <tr>\n",
       "      <th>5</th>\n",
       "      <td>Grenada</td>\n",
       "    </tr>\n",
       "    <tr>\n",
       "      <th>6</th>\n",
       "      <td>Kiribati</td>\n",
       "    </tr>\n",
       "    <tr>\n",
       "      <th>7</th>\n",
       "      <td>Lebanon</td>\n",
       "    </tr>\n",
       "    <tr>\n",
       "      <th>8</th>\n",
       "      <td>Maldives</td>\n",
       "    </tr>\n",
       "    <tr>\n",
       "      <th>9</th>\n",
       "      <td>Marshall Islands</td>\n",
       "    </tr>\n",
       "    <tr>\n",
       "      <th>10</th>\n",
       "      <td>Micronesia, Fed. St.</td>\n",
       "    </tr>\n",
       "    <tr>\n",
       "      <th>11</th>\n",
       "      <td>Moldova</td>\n",
       "    </tr>\n",
       "    <tr>\n",
       "      <th>12</th>\n",
       "      <td>Philippines</td>\n",
       "    </tr>\n",
       "    <tr>\n",
       "      <th>13</th>\n",
       "      <td>Saint Lucia</td>\n",
       "    </tr>\n",
       "    <tr>\n",
       "      <th>14</th>\n",
       "      <td>Saint Vincent and the Grenadines</td>\n",
       "    </tr>\n",
       "    <tr>\n",
       "      <th>15</th>\n",
       "      <td>Samoa</td>\n",
       "    </tr>\n",
       "    <tr>\n",
       "      <th>16</th>\n",
       "      <td>Sao Tome &amp; Principe</td>\n",
       "    </tr>\n",
       "    <tr>\n",
       "      <th>17</th>\n",
       "      <td>Seychelles</td>\n",
       "    </tr>\n",
       "    <tr>\n",
       "      <th>18</th>\n",
       "      <td>Sri Lanka</td>\n",
       "    </tr>\n",
       "    <tr>\n",
       "      <th>19</th>\n",
       "      <td>Tonga</td>\n",
       "    </tr>\n",
       "  </tbody>\n",
       "</table>\n",
       "</div>"
      ],
      "text/plain": [
       "                            Cluster 0\n",
       "0                     American Samoa \n",
       "1                            Comoros \n",
       "2                       Cook Islands \n",
       "3                           Dominica \n",
       "4                         Gaza Strip \n",
       "5                            Grenada \n",
       "6                           Kiribati \n",
       "7                            Lebanon \n",
       "8                           Maldives \n",
       "9                   Marshall Islands \n",
       "10              Micronesia, Fed. St. \n",
       "11                           Moldova \n",
       "12                       Philippines \n",
       "13                       Saint Lucia \n",
       "14  Saint Vincent and the Grenadines \n",
       "15                             Samoa \n",
       "16               Sao Tome & Principe \n",
       "17                        Seychelles \n",
       "18                         Sri Lanka \n",
       "19                             Tonga "
      ]
     },
     "metadata": {},
     "output_type": "display_data"
    },
    {
     "data": {
      "text/html": [
       "<div>\n",
       "<style scoped>\n",
       "    .dataframe tbody tr th:only-of-type {\n",
       "        vertical-align: middle;\n",
       "    }\n",
       "\n",
       "    .dataframe tbody tr th {\n",
       "        vertical-align: top;\n",
       "    }\n",
       "\n",
       "    .dataframe thead th {\n",
       "        text-align: right;\n",
       "    }\n",
       "</style>\n",
       "<table border=\"1\" class=\"dataframe\">\n",
       "  <thead>\n",
       "    <tr style=\"text-align: right;\">\n",
       "      <th></th>\n",
       "      <th>Cluster 1</th>\n",
       "    </tr>\n",
       "  </thead>\n",
       "  <tbody>\n",
       "    <tr>\n",
       "      <th>0</th>\n",
       "      <td>Andorra</td>\n",
       "    </tr>\n",
       "    <tr>\n",
       "      <th>1</th>\n",
       "      <td>Anguilla</td>\n",
       "    </tr>\n",
       "    <tr>\n",
       "      <th>2</th>\n",
       "      <td>Antigua &amp; Barbuda</td>\n",
       "    </tr>\n",
       "    <tr>\n",
       "      <th>3</th>\n",
       "      <td>Argentina</td>\n",
       "    </tr>\n",
       "    <tr>\n",
       "      <th>4</th>\n",
       "      <td>Aruba</td>\n",
       "    </tr>\n",
       "    <tr>\n",
       "      <th>5</th>\n",
       "      <td>Australia</td>\n",
       "    </tr>\n",
       "    <tr>\n",
       "      <th>6</th>\n",
       "      <td>Austria</td>\n",
       "    </tr>\n",
       "    <tr>\n",
       "      <th>7</th>\n",
       "      <td>Bahamas, The</td>\n",
       "    </tr>\n",
       "    <tr>\n",
       "      <th>8</th>\n",
       "      <td>Bahrain</td>\n",
       "    </tr>\n",
       "    <tr>\n",
       "      <th>9</th>\n",
       "      <td>Barbados</td>\n",
       "    </tr>\n",
       "    <tr>\n",
       "      <th>10</th>\n",
       "      <td>Belarus</td>\n",
       "    </tr>\n",
       "    <tr>\n",
       "      <th>11</th>\n",
       "      <td>Belgium</td>\n",
       "    </tr>\n",
       "    <tr>\n",
       "      <th>12</th>\n",
       "      <td>Belize</td>\n",
       "    </tr>\n",
       "    <tr>\n",
       "      <th>13</th>\n",
       "      <td>Bermuda</td>\n",
       "    </tr>\n",
       "    <tr>\n",
       "      <th>14</th>\n",
       "      <td>Bosnia &amp; Herzegovina</td>\n",
       "    </tr>\n",
       "    <tr>\n",
       "      <th>15</th>\n",
       "      <td>Brazil</td>\n",
       "    </tr>\n",
       "    <tr>\n",
       "      <th>16</th>\n",
       "      <td>British Virgin Is.</td>\n",
       "    </tr>\n",
       "    <tr>\n",
       "      <th>17</th>\n",
       "      <td>Brunei</td>\n",
       "    </tr>\n",
       "    <tr>\n",
       "      <th>18</th>\n",
       "      <td>Bulgaria</td>\n",
       "    </tr>\n",
       "    <tr>\n",
       "      <th>19</th>\n",
       "      <td>Canada</td>\n",
       "    </tr>\n",
       "  </tbody>\n",
       "</table>\n",
       "</div>"
      ],
      "text/plain": [
       "                Cluster 1\n",
       "0                Andorra \n",
       "1               Anguilla \n",
       "2      Antigua & Barbuda \n",
       "3              Argentina \n",
       "4                  Aruba \n",
       "5              Australia \n",
       "6                Austria \n",
       "7           Bahamas, The \n",
       "8                Bahrain \n",
       "9               Barbados \n",
       "10               Belarus \n",
       "11               Belgium \n",
       "12                Belize \n",
       "13               Bermuda \n",
       "14  Bosnia & Herzegovina \n",
       "15                Brazil \n",
       "16    British Virgin Is. \n",
       "17                Brunei \n",
       "18              Bulgaria \n",
       "19                Canada "
      ]
     },
     "metadata": {},
     "output_type": "display_data"
    },
    {
     "data": {
      "text/html": [
       "<div>\n",
       "<style scoped>\n",
       "    .dataframe tbody tr th:only-of-type {\n",
       "        vertical-align: middle;\n",
       "    }\n",
       "\n",
       "    .dataframe tbody tr th {\n",
       "        vertical-align: top;\n",
       "    }\n",
       "\n",
       "    .dataframe thead th {\n",
       "        text-align: right;\n",
       "    }\n",
       "</style>\n",
       "<table border=\"1\" class=\"dataframe\">\n",
       "  <thead>\n",
       "    <tr style=\"text-align: right;\">\n",
       "      <th></th>\n",
       "      <th>Cluster 2</th>\n",
       "    </tr>\n",
       "  </thead>\n",
       "  <tbody>\n",
       "    <tr>\n",
       "      <th>0</th>\n",
       "      <td>Afghanistan</td>\n",
       "    </tr>\n",
       "    <tr>\n",
       "      <th>1</th>\n",
       "      <td>Albania</td>\n",
       "    </tr>\n",
       "    <tr>\n",
       "      <th>2</th>\n",
       "      <td>Algeria</td>\n",
       "    </tr>\n",
       "    <tr>\n",
       "      <th>3</th>\n",
       "      <td>Angola</td>\n",
       "    </tr>\n",
       "    <tr>\n",
       "      <th>4</th>\n",
       "      <td>Armenia</td>\n",
       "    </tr>\n",
       "    <tr>\n",
       "      <th>5</th>\n",
       "      <td>Azerbaijan</td>\n",
       "    </tr>\n",
       "    <tr>\n",
       "      <th>6</th>\n",
       "      <td>Bangladesh</td>\n",
       "    </tr>\n",
       "    <tr>\n",
       "      <th>7</th>\n",
       "      <td>Benin</td>\n",
       "    </tr>\n",
       "    <tr>\n",
       "      <th>8</th>\n",
       "      <td>Bhutan</td>\n",
       "    </tr>\n",
       "    <tr>\n",
       "      <th>9</th>\n",
       "      <td>Bolivia</td>\n",
       "    </tr>\n",
       "    <tr>\n",
       "      <th>10</th>\n",
       "      <td>Botswana</td>\n",
       "    </tr>\n",
       "    <tr>\n",
       "      <th>11</th>\n",
       "      <td>Burkina Faso</td>\n",
       "    </tr>\n",
       "    <tr>\n",
       "      <th>12</th>\n",
       "      <td>Burma</td>\n",
       "    </tr>\n",
       "    <tr>\n",
       "      <th>13</th>\n",
       "      <td>Burundi</td>\n",
       "    </tr>\n",
       "    <tr>\n",
       "      <th>14</th>\n",
       "      <td>Cambodia</td>\n",
       "    </tr>\n",
       "    <tr>\n",
       "      <th>15</th>\n",
       "      <td>Cameroon</td>\n",
       "    </tr>\n",
       "    <tr>\n",
       "      <th>16</th>\n",
       "      <td>Central African Rep.</td>\n",
       "    </tr>\n",
       "    <tr>\n",
       "      <th>17</th>\n",
       "      <td>Chad</td>\n",
       "    </tr>\n",
       "    <tr>\n",
       "      <th>18</th>\n",
       "      <td>Chile</td>\n",
       "    </tr>\n",
       "    <tr>\n",
       "      <th>19</th>\n",
       "      <td>Colombia</td>\n",
       "    </tr>\n",
       "  </tbody>\n",
       "</table>\n",
       "</div>"
      ],
      "text/plain": [
       "                Cluster 2\n",
       "0            Afghanistan \n",
       "1                Albania \n",
       "2                Algeria \n",
       "3                 Angola \n",
       "4                Armenia \n",
       "5             Azerbaijan \n",
       "6             Bangladesh \n",
       "7                  Benin \n",
       "8                 Bhutan \n",
       "9                Bolivia \n",
       "10              Botswana \n",
       "11          Burkina Faso \n",
       "12                 Burma \n",
       "13               Burundi \n",
       "14              Cambodia \n",
       "15              Cameroon \n",
       "16  Central African Rep. \n",
       "17                  Chad \n",
       "18                 Chile \n",
       "19              Colombia "
      ]
     },
     "metadata": {},
     "output_type": "display_data"
    }
   ],
   "source": [
    "cluster0 = pd.DataFrame({\n",
    "    'Cluster 0': [],\n",
    "    })\n",
    "cluster1 = pd.DataFrame({\n",
    "    'Cluster 1': [],\n",
    "    })\n",
    "cluster2 = pd.DataFrame({\n",
    "    'Cluster 2': [],\n",
    "    })\n",
    "\n",
    "\n",
    "for index, row in scaled_df.iterrows():\n",
    "    if(row['Cluster'] == 0):\n",
    "        new_row = {'Cluster 0' : scaled_df.iloc[index]['Country'] }\n",
    "        cluster0 = cluster0.append(new_row, ignore_index=True)        \n",
    "    elif(row['Cluster'] == 1):\n",
    "        new_row = {'Cluster 1' : scaled_df.iloc[index]['Country'] }\n",
    "        cluster1 = cluster1.append(new_row, ignore_index=True)         \n",
    "    elif(row['Cluster'] == 2):\n",
    "        new_row = {'Cluster 2' : scaled_df.iloc[index]['Country'] }\n",
    "        cluster2 = cluster2.append(new_row, ignore_index=True)     \n",
    "\n",
    "        \n",
    "print(\"Countries in each cluster(using EM):-\")\n",
    "display(cluster0.head(20))\n",
    "display(cluster1.head(20))\n",
    "display(cluster2.head(20))"
   ]
  },
  {
   "cell_type": "markdown",
   "metadata": {},
   "source": [
    "## 6. <a name=\"6\">improvement ideas</a>\n",
    "(<a href=\"#0\">Go to top</a>)"
   ]
  },
  {
   "cell_type": "markdown",
   "metadata": {},
   "source": [
    "- Try to use PCA to reduce the number of features and compare how this will affect the clustring process\n",
    "- Try to run your code again but with different tranformation technique\n",
    "- Implement gap statistics method and use it as evaluation metric and compare the result with what you did before https://www.datanovia.com/en/lessons/determining-the-optimal-number-of-clusters-3-must-know-methods/#gap-statistic-method "
   ]
  }
 ],
 "metadata": {
  "kernelspec": {
   "display_name": "Python 3",
   "language": "python",
   "name": "python3"
  },
  "language_info": {
   "codemirror_mode": {
    "name": "ipython",
    "version": 3
   },
   "file_extension": ".py",
   "mimetype": "text/x-python",
   "name": "python",
   "nbconvert_exporter": "python",
   "pygments_lexer": "ipython3",
   "version": "3.8.3"
  }
 },
 "nbformat": 4,
 "nbformat_minor": 2
}
